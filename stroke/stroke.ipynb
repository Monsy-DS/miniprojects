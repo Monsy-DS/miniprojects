{
 "cells": [
  {
   "cell_type": "code",
   "execution_count": 2,
   "metadata": {},
   "outputs": [],
   "source": [
    "import pandas as pd\n",
    "import numpy as np\n",
    "import matplotlib.pyplot as plt\n",
    "import seaborn as sns"
   ]
  },
  {
   "cell_type": "code",
   "execution_count": 3,
   "metadata": {},
   "outputs": [
    {
     "name": "stderr",
     "output_type": "stream",
     "text": [
      "C:\\Users\\gelelety\\anaconda3\\lib\\site-packages\\tensorflow\\python\\framework\\dtypes.py:516: FutureWarning: Passing (type, 1) or '1type' as a synonym of type is deprecated; in a future version of numpy, it will be understood as (type, (1,)) / '(1,)type'.\n",
      "  _np_qint8 = np.dtype([(\"qint8\", np.int8, 1)])\n",
      "C:\\Users\\gelelety\\anaconda3\\lib\\site-packages\\tensorflow\\python\\framework\\dtypes.py:517: FutureWarning: Passing (type, 1) or '1type' as a synonym of type is deprecated; in a future version of numpy, it will be understood as (type, (1,)) / '(1,)type'.\n",
      "  _np_quint8 = np.dtype([(\"quint8\", np.uint8, 1)])\n",
      "C:\\Users\\gelelety\\anaconda3\\lib\\site-packages\\tensorflow\\python\\framework\\dtypes.py:518: FutureWarning: Passing (type, 1) or '1type' as a synonym of type is deprecated; in a future version of numpy, it will be understood as (type, (1,)) / '(1,)type'.\n",
      "  _np_qint16 = np.dtype([(\"qint16\", np.int16, 1)])\n",
      "C:\\Users\\gelelety\\anaconda3\\lib\\site-packages\\tensorflow\\python\\framework\\dtypes.py:519: FutureWarning: Passing (type, 1) or '1type' as a synonym of type is deprecated; in a future version of numpy, it will be understood as (type, (1,)) / '(1,)type'.\n",
      "  _np_quint16 = np.dtype([(\"quint16\", np.uint16, 1)])\n",
      "C:\\Users\\gelelety\\anaconda3\\lib\\site-packages\\tensorflow\\python\\framework\\dtypes.py:520: FutureWarning: Passing (type, 1) or '1type' as a synonym of type is deprecated; in a future version of numpy, it will be understood as (type, (1,)) / '(1,)type'.\n",
      "  _np_qint32 = np.dtype([(\"qint32\", np.int32, 1)])\n",
      "C:\\Users\\gelelety\\anaconda3\\lib\\site-packages\\tensorflow\\python\\framework\\dtypes.py:525: FutureWarning: Passing (type, 1) or '1type' as a synonym of type is deprecated; in a future version of numpy, it will be understood as (type, (1,)) / '(1,)type'.\n",
      "  np_resource = np.dtype([(\"resource\", np.ubyte, 1)])\n",
      "C:\\Users\\gelelety\\anaconda3\\lib\\site-packages\\tensorboard\\compat\\tensorflow_stub\\dtypes.py:541: FutureWarning: Passing (type, 1) or '1type' as a synonym of type is deprecated; in a future version of numpy, it will be understood as (type, (1,)) / '(1,)type'.\n",
      "  _np_qint8 = np.dtype([(\"qint8\", np.int8, 1)])\n",
      "C:\\Users\\gelelety\\anaconda3\\lib\\site-packages\\tensorboard\\compat\\tensorflow_stub\\dtypes.py:542: FutureWarning: Passing (type, 1) or '1type' as a synonym of type is deprecated; in a future version of numpy, it will be understood as (type, (1,)) / '(1,)type'.\n",
      "  _np_quint8 = np.dtype([(\"quint8\", np.uint8, 1)])\n",
      "C:\\Users\\gelelety\\anaconda3\\lib\\site-packages\\tensorboard\\compat\\tensorflow_stub\\dtypes.py:543: FutureWarning: Passing (type, 1) or '1type' as a synonym of type is deprecated; in a future version of numpy, it will be understood as (type, (1,)) / '(1,)type'.\n",
      "  _np_qint16 = np.dtype([(\"qint16\", np.int16, 1)])\n",
      "C:\\Users\\gelelety\\anaconda3\\lib\\site-packages\\tensorboard\\compat\\tensorflow_stub\\dtypes.py:544: FutureWarning: Passing (type, 1) or '1type' as a synonym of type is deprecated; in a future version of numpy, it will be understood as (type, (1,)) / '(1,)type'.\n",
      "  _np_quint16 = np.dtype([(\"quint16\", np.uint16, 1)])\n",
      "C:\\Users\\gelelety\\anaconda3\\lib\\site-packages\\tensorboard\\compat\\tensorflow_stub\\dtypes.py:545: FutureWarning: Passing (type, 1) or '1type' as a synonym of type is deprecated; in a future version of numpy, it will be understood as (type, (1,)) / '(1,)type'.\n",
      "  _np_qint32 = np.dtype([(\"qint32\", np.int32, 1)])\n",
      "C:\\Users\\gelelety\\anaconda3\\lib\\site-packages\\tensorboard\\compat\\tensorflow_stub\\dtypes.py:550: FutureWarning: Passing (type, 1) or '1type' as a synonym of type is deprecated; in a future version of numpy, it will be understood as (type, (1,)) / '(1,)type'.\n",
      "  np_resource = np.dtype([(\"resource\", np.ubyte, 1)])\n"
     ]
    }
   ],
   "source": [
    "from tensorflow.keras.models import Sequential\n",
    "from tensorflow.keras.layers import Dense, Dropout\n",
    "from tensorflow.keras.callbacks import EarlyStopping"
   ]
  },
  {
   "cell_type": "code",
   "execution_count": 4,
   "metadata": {},
   "outputs": [],
   "source": [
    "from sklearn.model_selection import train_test_split\n",
    "from sklearn.metrics import confusion_matrix\n",
    "from sklearn.preprocessing import MinMaxScaler"
   ]
  },
  {
   "cell_type": "code",
   "execution_count": 5,
   "metadata": {},
   "outputs": [],
   "source": [
    "stroke = pd.read_csv('stroke_data.csv')"
   ]
  },
  {
   "cell_type": "code",
   "execution_count": 6,
   "metadata": {},
   "outputs": [
    {
     "name": "stdout",
     "output_type": "stream",
     "text": [
      "<class 'pandas.core.frame.DataFrame'>\n",
      "RangeIndex: 29065 entries, 0 to 29064\n",
      "Data columns (total 11 columns):\n",
      " #   Column             Non-Null Count  Dtype  \n",
      "---  ------             --------------  -----  \n",
      " 0   gender             29065 non-null  object \n",
      " 1   age                29065 non-null  float64\n",
      " 2   hypertension       29065 non-null  int64  \n",
      " 3   heart_disease      29065 non-null  int64  \n",
      " 4   ever_married       29065 non-null  object \n",
      " 5   work_type          29065 non-null  object \n",
      " 6   Residence_type     29065 non-null  object \n",
      " 7   avg_glucose_level  29065 non-null  float64\n",
      " 8   bmi                29065 non-null  float64\n",
      " 9   smoking_status     29065 non-null  object \n",
      " 10  stroke             29065 non-null  int64  \n",
      "dtypes: float64(3), int64(3), object(5)\n",
      "memory usage: 2.4+ MB\n"
     ]
    }
   ],
   "source": [
    "stroke.info()"
   ]
  },
  {
   "cell_type": "code",
   "execution_count": 7,
   "metadata": {},
   "outputs": [
    {
     "data": {
      "text/plain": [
       "<matplotlib.axes._subplots.AxesSubplot at 0x1e43792d548>"
      ]
     },
     "execution_count": 7,
     "metadata": {},
     "output_type": "execute_result"
    },
    {
     "data": {
      "image/png": "[encoded data removed]",
      "text/plain": [
       "<Figure size 432x288 with 1 Axes>"
      ]
     },
     "metadata": {
      "needs_background": "light"
     },
     "output_type": "display_data"
    }
   ],
   "source": [
    "sns.countplot(x='stroke', data=stroke, hue='smoking_status')"
   ]
  },
  {
   "cell_type": "code",
   "execution_count": 8,
   "metadata": {},
   "outputs": [
    {
     "data": {
      "text/plain": [
       "<matplotlib.axes._subplots.AxesSubplot at 0x1e437a1cd88>"
      ]
     },
     "execution_count": 8,
     "metadata": {},
     "output_type": "execute_result"
    },
    {
     "data": {
      "image/png": "[encoded data removed]",
      "text/plain": [
       "<Figure size 432x288 with 1 Axes>"
      ]
     },
     "metadata": {
      "needs_background": "light"
     },
     "output_type": "display_data"
    }
   ],
   "source": [
    "sns.countplot(x='smoking_status', data=stroke, hue='stroke')"
   ]
  },
  {
   "cell_type": "code",
   "execution_count": 9,
   "metadata": {},
   "outputs": [
    {
     "data": {
      "text/plain": [
       "<matplotlib.axes._subplots.AxesSubplot at 0x1e437ab6088>"
      ]
     },
     "execution_count": 9,
     "metadata": {},
     "output_type": "execute_result"
    },
    {
     "data": {
      "image/png": "[encoded data removed]",
      "text/plain": [
       "<Figure size 432x288 with 1 Axes>"
      ]
     },
     "metadata": {
      "needs_background": "light"
     },
     "output_type": "display_data"
    }
   ],
   "source": [
    "sns.countplot(x='hypertension', hue='stroke', data=stroke)"
   ]
  },
  {
   "cell_type": "code",
   "execution_count": 10,
   "metadata": {},
   "outputs": [
    {
     "name": "stdout",
     "output_type": "stream",
     "text": [
      "0.01885429210390504\n"
     ]
    }
   ],
   "source": [
    "print(stroke[stroke['stroke']==1]['stroke'].count()/(stroke[stroke['stroke']==1]['stroke'].count()+stroke[stroke['stroke']==0]['stroke'].count()))"
   ]
  },
  {
   "cell_type": "code",
   "execution_count": 18,
   "metadata": {},
   "outputs": [],
   "source": [
    "stroke_one = stroke[stroke['stroke']==1]\n",
    "stroke_zero = stroke[stroke['stroke']==0]"
   ]
  },
  {
   "cell_type": "code",
   "execution_count": 19,
   "metadata": {},
   "outputs": [
    {
     "data": {
      "text/plain": [
       "52.03832116788321"
      ]
     },
     "execution_count": 19,
     "metadata": {},
     "output_type": "execute_result"
    }
   ],
   "source": [
    "stroke_zero['stroke'].count()/stroke_one['stroke'].count()"
   ]
  },
  {
   "cell_type": "code",
   "execution_count": 20,
   "metadata": {},
   "outputs": [],
   "source": [
    "stroke_2 = pd.concat([stroke_one,stroke_one,stroke_one,stroke_one,stroke_one,stroke_one, stroke_one,stroke_one,stroke_one,stroke_one],axis=0)"
   ]
  },
  {
   "cell_type": "code",
   "execution_count": 21,
   "metadata": {},
   "outputs": [
    {
     "data": {
      "text/plain": [
       "gender               28517\n",
       "age                  28517\n",
       "hypertension         28517\n",
       "heart_disease        28517\n",
       "ever_married         28517\n",
       "work_type            28517\n",
       "Residence_type       28517\n",
       "avg_glucose_level    28517\n",
       "bmi                  28517\n",
       "smoking_status       28517\n",
       "stroke               28517\n",
       "dtype: int64"
      ]
     },
     "execution_count": 21,
     "metadata": {},
     "output_type": "execute_result"
    }
   ],
   "source": [
    "stroke_zero.count()"
   ]
  },
  {
   "cell_type": "code",
   "execution_count": 22,
   "metadata": {},
   "outputs": [
    {
     "data": {
      "text/plain": [
       "gender               55917\n",
       "age                  55917\n",
       "hypertension         55917\n",
       "heart_disease        55917\n",
       "ever_married         55917\n",
       "work_type            55917\n",
       "Residence_type       55917\n",
       "avg_glucose_level    55917\n",
       "bmi                  55917\n",
       "smoking_status       55917\n",
       "stroke               55917\n",
       "dtype: int64"
      ]
     },
     "execution_count": 22,
     "metadata": {},
     "output_type": "execute_result"
    }
   ],
   "source": [
    "df_final = pd.concat([stroke_2,stroke_2,stroke_2,stroke_2,stroke_2,stroke_zero],axis=0)\n",
    "df_final.count()"
   ]
  },
  {
   "cell_type": "code",
   "execution_count": 23,
   "metadata": {},
   "outputs": [
    {
     "data": {
      "text/plain": [
       "Index(['gender', 'age', 'hypertension', 'heart_disease', 'ever_married',\n",
       "       'work_type', 'Residence_type', 'avg_glucose_level', 'bmi',\n",
       "       'smoking_status', 'stroke'],\n",
       "      dtype='object')"
      ]
     },
     "execution_count": 23,
     "metadata": {},
     "output_type": "execute_result"
    }
   ],
   "source": [
    "stroke.columns"
   ]
  },
  {
   "cell_type": "code",
   "execution_count": 24,
   "metadata": {},
   "outputs": [
    {
     "data": {
      "text/plain": [
       "Text(0.5, 1.0, 'stroke  == 1')"
      ]
     },
     "execution_count": 24,
     "metadata": {},
     "output_type": "execute_result"
    },
    {
     "data": {
      "image/png": "[encoded data removed]",
      "text/plain": [
       "<Figure size 432x288 with 1 Axes>"
      ]
     },
     "metadata": {
      "needs_background": "light"
     },
     "output_type": "display_data"
    }
   ],
   "source": [
    "sns.countplot(x='stroke', hue='smoking_status',hue_order=['never smoked','formerly smoked','smokes'], data=stroke_one)\n",
    "plt.title('stroke  == 1')"
   ]
  },
  {
   "cell_type": "code",
   "execution_count": 25,
   "metadata": {},
   "outputs": [
    {
     "data": {
      "text/plain": [
       "Text(0.5, 1.0, 'stroke  == 0')"
      ]
     },
     "execution_count": 25,
     "metadata": {},
     "output_type": "execute_result"
    },
    {
     "data": {
      "image/png": "[encoded data removed]",
      "text/plain": [
       "<Figure size 432x288 with 1 Axes>"
      ]
     },
     "metadata": {
      "needs_background": "light"
     },
     "output_type": "display_data"
    }
   ],
   "source": [
    "sns.countplot(x='stroke', hue='smoking_status',hue_order=['never smoked','formerly smoked','smokes'], data=stroke_zero)\n",
    "plt.title('stroke  == 0')"
   ]
  },
  {
   "cell_type": "code",
   "execution_count": 26,
   "metadata": {},
   "outputs": [
    {
     "name": "stdout",
     "output_type": "stream",
     "text": [
      "stroke:\n",
      "smoker\n",
      "0.20437956204379562\n",
      "smoker former\n",
      "0.3284671532846715\n",
      "non stroke:\n",
      "smoker\n",
      "0.21439842900725883\n",
      "smoker former\n",
      "0.24241680401164217\n"
     ]
    }
   ],
   "source": [
    "still_smoked_stroke=stroke_one[stroke_one['smoking_status']=='smokes']['stroke'].count()\n",
    "formerly_smoked_stroke=stroke_one[stroke_one['smoking_status']=='formerly smoked']['stroke'].count()\n",
    "never_smoked_stroke=stroke_one[stroke_one['smoking_status']=='never smoked']['stroke'].count()\n",
    "smoked_stroke = still_smoked_stroke+formerly_smoked_stroke+never_smoked_stroke\n",
    "\n",
    "still_smoked=stroke_zero[stroke_zero['smoking_status']=='smokes']['stroke'].count()\n",
    "formerly_smoked=stroke_zero[stroke_zero['smoking_status']=='formerly smoked']['stroke'].count()\n",
    "never_smoked=stroke_zero[stroke_zero['smoking_status']=='never smoked']['stroke'].count()\n",
    "smoked = still_smoked+formerly_smoked+never_smoked\n",
    "\n",
    "print('stroke:')\n",
    "print('smoker')\n",
    "print(still_smoked_stroke/smoked_stroke)\n",
    "print('smoker former')\n",
    "print(formerly_smoked_stroke/smoked_stroke)\n",
    "\n",
    "print('non stroke:')\n",
    "print('smoker')\n",
    "print(still_smoked/smoked)\n",
    "print('smoker former')\n",
    "print(formerly_smoked/smoked)"
   ]
  },
  {
   "cell_type": "code",
   "execution_count": 27,
   "metadata": {
    "scrolled": true
   },
   "outputs": [
    {
     "name": "stdout",
     "output_type": "stream",
     "text": [
      "gender               548\n",
      "age                  548\n",
      "hypertension         548\n",
      "heart_disease        548\n",
      "ever_married         548\n",
      "work_type            548\n",
      "Residence_type       548\n",
      "avg_glucose_level    548\n",
      "bmi                  548\n",
      "smoking_status       548\n",
      "stroke               548\n",
      "dtype: int64\n",
      "gender               28517\n",
      "age                  28517\n",
      "hypertension         28517\n",
      "heart_disease        28517\n",
      "ever_married         28517\n",
      "work_type            28517\n",
      "Residence_type       28517\n",
      "avg_glucose_level    28517\n",
      "bmi                  28517\n",
      "smoking_status       28517\n",
      "stroke               28517\n",
      "dtype: int64\n"
     ]
    }
   ],
   "source": [
    "print(stroke_one.count())\n",
    "print(stroke_zero.count())"
   ]
  },
  {
   "cell_type": "code",
   "execution_count": 28,
   "metadata": {},
   "outputs": [
    {
     "data": {
      "text/html": [
       "<div>\n",
       "<style scoped>\n",
       "    .dataframe tbody tr th:only-of-type {\n",
       "        vertical-align: middle;\n",
       "    }\n",
       "\n",
       "    .dataframe tbody tr th {\n",
       "        vertical-align: top;\n",
       "    }\n",
       "\n",
       "    .dataframe thead th {\n",
       "        text-align: right;\n",
       "    }\n",
       "</style>\n",
       "<table border=\"1\" class=\"dataframe\">\n",
       "  <thead>\n",
       "    <tr style=\"text-align: right;\">\n",
       "      <th></th>\n",
       "      <th>index</th>\n",
       "      <th>gender</th>\n",
       "      <th>age</th>\n",
       "      <th>hypertension</th>\n",
       "      <th>heart_disease</th>\n",
       "      <th>ever_married</th>\n",
       "      <th>work_type</th>\n",
       "      <th>Residence_type</th>\n",
       "      <th>avg_glucose_level</th>\n",
       "      <th>bmi</th>\n",
       "      <th>smoking_status</th>\n",
       "      <th>stroke</th>\n",
       "    </tr>\n",
       "  </thead>\n",
       "  <tbody>\n",
       "    <tr>\n",
       "      <th>0</th>\n",
       "      <td>40</td>\n",
       "      <td>Male</td>\n",
       "      <td>67.0</td>\n",
       "      <td>0</td>\n",
       "      <td>1</td>\n",
       "      <td>Yes</td>\n",
       "      <td>Private</td>\n",
       "      <td>Urban</td>\n",
       "      <td>228.69</td>\n",
       "      <td>36.6</td>\n",
       "      <td>formerly smoked</td>\n",
       "      <td>1</td>\n",
       "    </tr>\n",
       "    <tr>\n",
       "      <th>1</th>\n",
       "      <td>97</td>\n",
       "      <td>Male</td>\n",
       "      <td>80.0</td>\n",
       "      <td>0</td>\n",
       "      <td>1</td>\n",
       "      <td>Yes</td>\n",
       "      <td>Private</td>\n",
       "      <td>Rural</td>\n",
       "      <td>105.92</td>\n",
       "      <td>32.5</td>\n",
       "      <td>never smoked</td>\n",
       "      <td>1</td>\n",
       "    </tr>\n",
       "    <tr>\n",
       "      <th>2</th>\n",
       "      <td>174</td>\n",
       "      <td>Female</td>\n",
       "      <td>49.0</td>\n",
       "      <td>0</td>\n",
       "      <td>0</td>\n",
       "      <td>Yes</td>\n",
       "      <td>Private</td>\n",
       "      <td>Urban</td>\n",
       "      <td>171.23</td>\n",
       "      <td>34.4</td>\n",
       "      <td>smokes</td>\n",
       "      <td>1</td>\n",
       "    </tr>\n",
       "    <tr>\n",
       "      <th>3</th>\n",
       "      <td>178</td>\n",
       "      <td>Female</td>\n",
       "      <td>79.0</td>\n",
       "      <td>1</td>\n",
       "      <td>0</td>\n",
       "      <td>Yes</td>\n",
       "      <td>Self-employed</td>\n",
       "      <td>Rural</td>\n",
       "      <td>174.12</td>\n",
       "      <td>24.0</td>\n",
       "      <td>never smoked</td>\n",
       "      <td>1</td>\n",
       "    </tr>\n",
       "    <tr>\n",
       "      <th>4</th>\n",
       "      <td>197</td>\n",
       "      <td>Male</td>\n",
       "      <td>81.0</td>\n",
       "      <td>0</td>\n",
       "      <td>0</td>\n",
       "      <td>Yes</td>\n",
       "      <td>Private</td>\n",
       "      <td>Urban</td>\n",
       "      <td>186.21</td>\n",
       "      <td>29.0</td>\n",
       "      <td>formerly smoked</td>\n",
       "      <td>1</td>\n",
       "    </tr>\n",
       "    <tr>\n",
       "      <th>...</th>\n",
       "      <td>...</td>\n",
       "      <td>...</td>\n",
       "      <td>...</td>\n",
       "      <td>...</td>\n",
       "      <td>...</td>\n",
       "      <td>...</td>\n",
       "      <td>...</td>\n",
       "      <td>...</td>\n",
       "      <td>...</td>\n",
       "      <td>...</td>\n",
       "      <td>...</td>\n",
       "      <td>...</td>\n",
       "    </tr>\n",
       "    <tr>\n",
       "      <th>55912</th>\n",
       "      <td>29060</td>\n",
       "      <td>Female</td>\n",
       "      <td>10.0</td>\n",
       "      <td>0</td>\n",
       "      <td>0</td>\n",
       "      <td>No</td>\n",
       "      <td>children</td>\n",
       "      <td>Urban</td>\n",
       "      <td>58.64</td>\n",
       "      <td>20.4</td>\n",
       "      <td>never smoked</td>\n",
       "      <td>0</td>\n",
       "    </tr>\n",
       "    <tr>\n",
       "      <th>55913</th>\n",
       "      <td>29061</td>\n",
       "      <td>Female</td>\n",
       "      <td>56.0</td>\n",
       "      <td>0</td>\n",
       "      <td>0</td>\n",
       "      <td>Yes</td>\n",
       "      <td>Govt_job</td>\n",
       "      <td>Urban</td>\n",
       "      <td>213.61</td>\n",
       "      <td>55.4</td>\n",
       "      <td>formerly smoked</td>\n",
       "      <td>0</td>\n",
       "    </tr>\n",
       "    <tr>\n",
       "      <th>55914</th>\n",
       "      <td>29062</td>\n",
       "      <td>Female</td>\n",
       "      <td>82.0</td>\n",
       "      <td>1</td>\n",
       "      <td>0</td>\n",
       "      <td>Yes</td>\n",
       "      <td>Private</td>\n",
       "      <td>Urban</td>\n",
       "      <td>91.94</td>\n",
       "      <td>28.9</td>\n",
       "      <td>formerly smoked</td>\n",
       "      <td>0</td>\n",
       "    </tr>\n",
       "    <tr>\n",
       "      <th>55915</th>\n",
       "      <td>29063</td>\n",
       "      <td>Male</td>\n",
       "      <td>40.0</td>\n",
       "      <td>0</td>\n",
       "      <td>0</td>\n",
       "      <td>Yes</td>\n",
       "      <td>Private</td>\n",
       "      <td>Urban</td>\n",
       "      <td>99.16</td>\n",
       "      <td>33.2</td>\n",
       "      <td>never smoked</td>\n",
       "      <td>0</td>\n",
       "    </tr>\n",
       "    <tr>\n",
       "      <th>55916</th>\n",
       "      <td>29064</td>\n",
       "      <td>Female</td>\n",
       "      <td>82.0</td>\n",
       "      <td>0</td>\n",
       "      <td>0</td>\n",
       "      <td>Yes</td>\n",
       "      <td>Private</td>\n",
       "      <td>Urban</td>\n",
       "      <td>79.48</td>\n",
       "      <td>20.6</td>\n",
       "      <td>never smoked</td>\n",
       "      <td>0</td>\n",
       "    </tr>\n",
       "  </tbody>\n",
       "</table>\n",
       "<p>55917 rows × 12 columns</p>\n",
       "</div>"
      ],
      "text/plain": [
       "       index  gender   age  hypertension  heart_disease ever_married  \\\n",
       "0         40    Male  67.0             0              1          Yes   \n",
       "1         97    Male  80.0             0              1          Yes   \n",
       "2        174  Female  49.0             0              0          Yes   \n",
       "3        178  Female  79.0             1              0          Yes   \n",
       "4        197    Male  81.0             0              0          Yes   \n",
       "...      ...     ...   ...           ...            ...          ...   \n",
       "55912  29060  Female  10.0             0              0           No   \n",
       "55913  29061  Female  56.0             0              0          Yes   \n",
       "55914  29062  Female  82.0             1              0          Yes   \n",
       "55915  29063    Male  40.0             0              0          Yes   \n",
       "55916  29064  Female  82.0             0              0          Yes   \n",
       "\n",
       "           work_type Residence_type  avg_glucose_level   bmi   smoking_status  \\\n",
       "0            Private          Urban             228.69  36.6  formerly smoked   \n",
       "1            Private          Rural             105.92  32.5     never smoked   \n",
       "2            Private          Urban             171.23  34.4           smokes   \n",
       "3      Self-employed          Rural             174.12  24.0     never smoked   \n",
       "4            Private          Urban             186.21  29.0  formerly smoked   \n",
       "...              ...            ...                ...   ...              ...   \n",
       "55912       children          Urban              58.64  20.4     never smoked   \n",
       "55913       Govt_job          Urban             213.61  55.4  formerly smoked   \n",
       "55914        Private          Urban              91.94  28.9  formerly smoked   \n",
       "55915        Private          Urban              99.16  33.2     never smoked   \n",
       "55916        Private          Urban              79.48  20.6     never smoked   \n",
       "\n",
       "       stroke  \n",
       "0           1  \n",
       "1           1  \n",
       "2           1  \n",
       "3           1  \n",
       "4           1  \n",
       "...       ...  \n",
       "55912       0  \n",
       "55913       0  \n",
       "55914       0  \n",
       "55915       0  \n",
       "55916       0  \n",
       "\n",
       "[55917 rows x 12 columns]"
      ]
     },
     "execution_count": 28,
     "metadata": {},
     "output_type": "execute_result"
    }
   ],
   "source": [
    "\n",
    "df_final.reset_index()"
   ]
  },
  {
   "cell_type": "code",
   "execution_count": 29,
   "metadata": {},
   "outputs": [],
   "source": [
    "smoking = pd.get_dummies(df_final['smoking_status'])\n",
    "married = pd.get_dummies(df_final['ever_married'])\n",
    "married.columns=['nonmarr','mar']\n",
    "work = pd.get_dummies(df_final['work_type'])\n",
    "gender = pd.get_dummies(df_final['gender'])"
   ]
  },
  {
   "cell_type": "code",
   "execution_count": 30,
   "metadata": {},
   "outputs": [],
   "source": [
    "df = df_final.drop(['smoking_status','ever_married','work_type','Residence_type','gender'],axis=1)"
   ]
  },
  {
   "cell_type": "code",
   "execution_count": 31,
   "metadata": {
    "scrolled": true
   },
   "outputs": [
    {
     "data": {
      "text/html": [
       "<div>\n",
       "<style scoped>\n",
       "    .dataframe tbody tr th:only-of-type {\n",
       "        vertical-align: middle;\n",
       "    }\n",
       "\n",
       "    .dataframe tbody tr th {\n",
       "        vertical-align: top;\n",
       "    }\n",
       "\n",
       "    .dataframe thead th {\n",
       "        text-align: right;\n",
       "    }\n",
       "</style>\n",
       "<table border=\"1\" class=\"dataframe\">\n",
       "  <thead>\n",
       "    <tr style=\"text-align: right;\">\n",
       "      <th></th>\n",
       "      <th>age</th>\n",
       "      <th>hypertension</th>\n",
       "      <th>heart_disease</th>\n",
       "      <th>avg_glucose_level</th>\n",
       "      <th>bmi</th>\n",
       "      <th>stroke</th>\n",
       "    </tr>\n",
       "  </thead>\n",
       "  <tbody>\n",
       "    <tr>\n",
       "      <th>40</th>\n",
       "      <td>67.0</td>\n",
       "      <td>0</td>\n",
       "      <td>1</td>\n",
       "      <td>228.69</td>\n",
       "      <td>36.6</td>\n",
       "      <td>1</td>\n",
       "    </tr>\n",
       "    <tr>\n",
       "      <th>97</th>\n",
       "      <td>80.0</td>\n",
       "      <td>0</td>\n",
       "      <td>1</td>\n",
       "      <td>105.92</td>\n",
       "      <td>32.5</td>\n",
       "      <td>1</td>\n",
       "    </tr>\n",
       "    <tr>\n",
       "      <th>174</th>\n",
       "      <td>49.0</td>\n",
       "      <td>0</td>\n",
       "      <td>0</td>\n",
       "      <td>171.23</td>\n",
       "      <td>34.4</td>\n",
       "      <td>1</td>\n",
       "    </tr>\n",
       "    <tr>\n",
       "      <th>178</th>\n",
       "      <td>79.0</td>\n",
       "      <td>1</td>\n",
       "      <td>0</td>\n",
       "      <td>174.12</td>\n",
       "      <td>24.0</td>\n",
       "      <td>1</td>\n",
       "    </tr>\n",
       "    <tr>\n",
       "      <th>197</th>\n",
       "      <td>81.0</td>\n",
       "      <td>0</td>\n",
       "      <td>0</td>\n",
       "      <td>186.21</td>\n",
       "      <td>29.0</td>\n",
       "      <td>1</td>\n",
       "    </tr>\n",
       "  </tbody>\n",
       "</table>\n",
       "</div>"
      ],
      "text/plain": [
       "      age  hypertension  heart_disease  avg_glucose_level   bmi  stroke\n",
       "40   67.0             0              1             228.69  36.6       1\n",
       "97   80.0             0              1             105.92  32.5       1\n",
       "174  49.0             0              0             171.23  34.4       1\n",
       "178  79.0             1              0             174.12  24.0       1\n",
       "197  81.0             0              0             186.21  29.0       1"
      ]
     },
     "execution_count": 31,
     "metadata": {},
     "output_type": "execute_result"
    }
   ],
   "source": [
    "df.head()"
   ]
  },
  {
   "cell_type": "code",
   "execution_count": 32,
   "metadata": {},
   "outputs": [],
   "source": [
    "train = pd.concat([df,smoking,married,work,gender],axis=1) \n",
    "\n",
    "\n",
    "#Age, hypertension, heart disease, Residence type, Avg Glucose level, BMI and Smoking status"
   ]
  },
  {
   "cell_type": "code",
   "execution_count": 33,
   "metadata": {},
   "outputs": [
    {
     "data": {
      "text/plain": [
       "<matplotlib.axes._subplots.AxesSubplot at 0x1e437fd5448>"
      ]
     },
     "execution_count": 33,
     "metadata": {},
     "output_type": "execute_result"
    },
    {
     "data": {
      "image/png": "[encoded data removed]",
      "text/plain": [
       "<Figure size 432x288 with 1 Axes>"
      ]
     },
     "metadata": {
      "needs_background": "light"
     },
     "output_type": "display_data"
    }
   ],
   "source": [
    "train.corr()['stroke'].sort_values().drop('stroke').plot(kind='bar')\n",
    "#interesting fact: for sure that with age you have bigger chance to have heartattack, but also, be a male, got married... \n",
    "#smoking isn't so big problem and it is healty to have children >D"
   ]
  },
  {
   "cell_type": "code",
   "execution_count": 34,
   "metadata": {},
   "outputs": [],
   "source": [
    "X = train.drop('stroke',axis=1)\n",
    "y = train['stroke']"
   ]
  },
  {
   "cell_type": "code",
   "execution_count": 35,
   "metadata": {},
   "outputs": [],
   "source": [
    "X_train, X_test, y_train, y_test = train_test_split(X, y, test_size=0.33, random_state=42)"
   ]
  },
  {
   "cell_type": "code",
   "execution_count": 36,
   "metadata": {},
   "outputs": [],
   "source": [
    "scaler = MinMaxScaler()\n",
    "X_train = scaler.fit_transform(X_train)\n",
    "X_test = scaler.transform(X_test)"
   ]
  },
  {
   "cell_type": "code",
   "execution_count": 37,
   "metadata": {},
   "outputs": [],
   "source": [
    "early = EarlyStopping(monitor='val_loss', mode = 'min', verbose=1, patience=20)"
   ]
  },
  {
   "cell_type": "code",
   "execution_count": 38,
   "metadata": {},
   "outputs": [
    {
     "data": {
      "text/plain": [
       "(37464, 17)"
      ]
     },
     "execution_count": 38,
     "metadata": {},
     "output_type": "execute_result"
    }
   ],
   "source": [
    "X_train.shape"
   ]
  },
  {
   "cell_type": "code",
   "execution_count": 39,
   "metadata": {},
   "outputs": [],
   "source": [
    "model = Sequential()\n",
    "model.add(Dense(19, activation='sigmoid',input_shape=(17,)))\n",
    "\n",
    "\n",
    "model.add(Dense(19, activation='sigmoid'))\n",
    "model.add(Dropout(0.3))\n",
    "\n",
    "model.add(Dense(19, activation='sigmoid'))\n",
    "model.add(Dropout(0.3))\n",
    "model.add(Dense(19, activation='sigmoid'))\n",
    "model.add(Dropout(0.3))\n",
    "model.add(Dense(19, activation='sigmoid'))\n",
    "model.add(Dropout(0.3))\n",
    "model.add(Dense(19, activation='sigmoid'))\n",
    "model.add(Dropout(0.3))\n",
    "\n",
    "\n",
    "\n",
    "\n",
    "model.add(Dense(1,activation='sigmoid'))\n",
    "model.compile(loss='binary_crossentropy', optimizer = 'Adam')"
   ]
  },
  {
   "cell_type": "code",
   "execution_count": 40,
   "metadata": {},
   "outputs": [
    {
     "name": "stdout",
     "output_type": "stream",
     "text": [
      "Model: \"sequential\"\n",
      "_________________________________________________________________\n",
      "Layer (type)                 Output Shape              Param #   \n",
      "=================================================================\n",
      "dense (Dense)                (None, 19)                342       \n",
      "_________________________________________________________________\n",
      "dense_1 (Dense)              (None, 19)                380       \n",
      "_________________________________________________________________\n",
      "dropout (Dropout)            (None, 19)                0         \n",
      "_________________________________________________________________\n",
      "dense_2 (Dense)              (None, 19)                380       \n",
      "_________________________________________________________________\n",
      "dropout_1 (Dropout)          (None, 19)                0         \n",
      "_________________________________________________________________\n",
      "dense_3 (Dense)              (None, 19)                380       \n",
      "_________________________________________________________________\n",
      "dropout_2 (Dropout)          (None, 19)                0         \n",
      "_________________________________________________________________\n",
      "dense_4 (Dense)              (None, 19)                380       \n",
      "_________________________________________________________________\n",
      "dropout_3 (Dropout)          (None, 19)                0         \n",
      "_________________________________________________________________\n",
      "dense_5 (Dense)              (None, 19)                380       \n",
      "_________________________________________________________________\n",
      "dropout_4 (Dropout)          (None, 19)                0         \n",
      "_________________________________________________________________\n",
      "dense_6 (Dense)              (None, 1)                 20        \n",
      "=================================================================\n",
      "Total params: 2,262\n",
      "Trainable params: 2,262\n",
      "Non-trainable params: 0\n",
      "_________________________________________________________________\n"
     ]
    }
   ],
   "source": [
    "model.summary()"
   ]
  },
  {
   "cell_type": "code",
   "execution_count": 41,
   "metadata": {
    "scrolled": true
   },
   "outputs": [
    {
     "name": "stdout",
     "output_type": "stream",
     "text": [
      "WARNING:tensorflow:From C:\\Users\\gelelety\\anaconda3\\lib\\site-packages\\tensorflow\\python\\ops\\math_grad.py:1250: add_dispatch_support.<locals>.wrapper (from tensorflow.python.ops.array_ops) is deprecated and will be removed in a future version.\n",
      "Instructions for updating:\n",
      "Use tf.where in 2.0, which has the same broadcast rule as np.where\n",
      "Train on 37464 samples, validate on 18453 samples\n",
      "Epoch 1/500\n",
      "37464/37464 [==============================] - 5s 138us/sample - loss: 0.7017 - val_loss: 0.6919\n",
      "Epoch 2/500\n",
      "37464/37464 [==============================] - 4s 107us/sample - loss: 0.6146 - val_loss: 0.5301\n",
      "Epoch 3/500\n",
      "37464/37464 [==============================] - 4s 96us/sample - loss: 0.5476 - val_loss: 0.5230\n",
      "Epoch 4/500\n",
      "37464/37464 [==============================] - 3s 88us/sample - loss: 0.5386 - val_loss: 0.5183\n",
      "Epoch 5/500\n",
      "37464/37464 [==============================] - 3s 88us/sample - loss: 0.5347 - val_loss: 0.5125\n",
      "Epoch 6/500\n",
      "37464/37464 [==============================] - 3s 91us/sample - loss: 0.5309 - val_loss: 0.5107\n",
      "Epoch 7/500\n",
      "37464/37464 [==============================] - 3s 89us/sample - loss: 0.5281 - val_loss: 0.5087\n",
      "Epoch 8/500\n",
      "37464/37464 [==============================] - 3s 92us/sample - loss: 0.5256 - val_loss: 0.5035\n",
      "Epoch 9/500\n",
      "37464/37464 [==============================] - 3s 86us/sample - loss: 0.5229 - val_loss: 0.4994\n",
      "Epoch 10/500\n",
      "37464/37464 [==============================] - 3s 87us/sample - loss: 0.5204 - val_loss: 0.4965\n",
      "Epoch 11/500\n",
      "37464/37464 [==============================] - 4s 110us/sample - loss: 0.5198 - val_loss: 0.4942\n",
      "Epoch 12/500\n",
      "37464/37464 [==============================] - 3s 87us/sample - loss: 0.5182 - val_loss: 0.4947\n",
      "Epoch 13/500\n",
      "37464/37464 [==============================] - 3s 86us/sample - loss: 0.5140 - val_loss: 0.4910\n",
      "Epoch 14/500\n",
      "37464/37464 [==============================] - 4s 95us/sample - loss: 0.5146 - val_loss: 0.4908\n",
      "Epoch 15/500\n",
      "37464/37464 [==============================] - 3s 86us/sample - loss: 0.5130 - val_loss: 0.4923\n",
      "Epoch 16/500\n",
      "37464/37464 [==============================] - 3s 86us/sample - loss: 0.5114 - val_loss: 0.4888\n",
      "Epoch 17/500\n",
      "37464/37464 [==============================] - 3s 86us/sample - loss: 0.5105 - val_loss: 0.4884\n",
      "Epoch 18/500\n",
      "37464/37464 [==============================] - 3s 86us/sample - loss: 0.5093 - val_loss: 0.4903\n",
      "Epoch 19/500\n",
      "37464/37464 [==============================] - 3s 86us/sample - loss: 0.5090 - val_loss: 0.4882\n",
      "Epoch 20/500\n",
      "37464/37464 [==============================] - 3s 86us/sample - loss: 0.5074 - val_loss: 0.4872\n",
      "Epoch 21/500\n",
      "37464/37464 [==============================] - 3s 87us/sample - loss: 0.5061 - val_loss: 0.4872\n",
      "Epoch 22/500\n",
      "37464/37464 [==============================] - 3s 86us/sample - loss: 0.5059 - val_loss: 0.4862\n",
      "Epoch 23/500\n",
      "37464/37464 [==============================] - 3s 86us/sample - loss: 0.5053 - val_loss: 0.4879\n",
      "Epoch 24/500\n",
      "37464/37464 [==============================] - 3s 86us/sample - loss: 0.5059 - val_loss: 0.4863\n",
      "Epoch 25/500\n",
      "37464/37464 [==============================] - 3s 86us/sample - loss: 0.5029 - val_loss: 0.4864\n",
      "Epoch 26/500\n",
      "37464/37464 [==============================] - 3s 91us/sample - loss: 0.5034 - val_loss: 0.4856\n",
      "Epoch 27/500\n",
      "37464/37464 [==============================] - 4s 112us/sample - loss: 0.5027 - val_loss: 0.4842\n",
      "Epoch 28/500\n",
      "37464/37464 [==============================] - 4s 103us/sample - loss: 0.5033 - val_loss: 0.4843\n",
      "Epoch 29/500\n",
      "37464/37464 [==============================] - 4s 101us/sample - loss: 0.5012 - val_loss: 0.4838\n",
      "Epoch 30/500\n",
      "37464/37464 [==============================] - 4s 102us/sample - loss: 0.5001 - val_loss: 0.4856\n",
      "Epoch 31/500\n",
      "37464/37464 [==============================] - 4s 102us/sample - loss: 0.4997 - val_loss: 0.4838\n",
      "Epoch 32/500\n",
      "37464/37464 [==============================] - 4s 102us/sample - loss: 0.4996 - val_loss: 0.4824\n",
      "Epoch 33/500\n",
      "37464/37464 [==============================] - 4s 105us/sample - loss: 0.4990 - val_loss: 0.4821\n",
      "Epoch 34/500\n",
      "37464/37464 [==============================] - 4s 102us/sample - loss: 0.4991 - val_loss: 0.4820\n",
      "Epoch 35/500\n",
      "37464/37464 [==============================] - 4s 103us/sample - loss: 0.4995 - val_loss: 0.4864\n",
      "Epoch 36/500\n",
      "37464/37464 [==============================] - 4s 102us/sample - loss: 0.4971 - val_loss: 0.4836\n",
      "Epoch 37/500\n",
      "37464/37464 [==============================] - 4s 101us/sample - loss: 0.4979 - val_loss: 0.4821\n",
      "Epoch 38/500\n",
      "37464/37464 [==============================] - 4s 102us/sample - loss: 0.4968 - val_loss: 0.4822\n",
      "Epoch 39/500\n",
      "37464/37464 [==============================] - 4s 102us/sample - loss: 0.4971 - val_loss: 0.4815\n",
      "Epoch 40/500\n",
      "37464/37464 [==============================] - 4s 119us/sample - loss: 0.4964 - val_loss: 0.4835\n",
      "Epoch 41/500\n",
      "37464/37464 [==============================] - 4s 102us/sample - loss: 0.4946 - val_loss: 0.4804\n",
      "Epoch 42/500\n",
      "37464/37464 [==============================] - 4s 109us/sample - loss: 0.4958 - val_loss: 0.4803\n",
      "Epoch 43/500\n",
      "37464/37464 [==============================] - 4s 102us/sample - loss: 0.4937 - val_loss: 0.4803\n",
      "Epoch 44/500\n",
      "37464/37464 [==============================] - 3s 88us/sample - loss: 0.4935 - val_loss: 0.4800\n",
      "Epoch 45/500\n",
      "37464/37464 [==============================] - 3s 87us/sample - loss: 0.4929 - val_loss: 0.4792\n",
      "Epoch 46/500\n",
      "37464/37464 [==============================] - 3s 86us/sample - loss: 0.4930 - val_loss: 0.4798\n",
      "Epoch 47/500\n",
      "37464/37464 [==============================] - 3s 87us/sample - loss: 0.4924 - val_loss: 0.4803\n",
      "Epoch 48/500\n",
      "37464/37464 [==============================] - 3s 86us/sample - loss: 0.4908 - val_loss: 0.4786\n",
      "Epoch 49/500\n",
      "37464/37464 [==============================] - 3s 86us/sample - loss: 0.4928 - val_loss: 0.4799\n",
      "Epoch 50/500\n",
      "37464/37464 [==============================] - 3s 87us/sample - loss: 0.4904 - val_loss: 0.4778\n",
      "Epoch 51/500\n",
      "37464/37464 [==============================] - 3s 88us/sample - loss: 0.4913 - val_loss: 0.4765\n",
      "Epoch 52/500\n",
      "37464/37464 [==============================] - 4s 109us/sample - loss: 0.4911 - val_loss: 0.4781\n",
      "Epoch 53/500\n",
      "37464/37464 [==============================] - 4s 103us/sample - loss: 0.4884 - val_loss: 0.4762\n",
      "Epoch 54/500\n",
      "37464/37464 [==============================] - 5s 124us/sample - loss: 0.4890 - val_loss: 0.4758\n",
      "Epoch 55/500\n",
      "37464/37464 [==============================] - 5s 130us/sample - loss: 0.4874 - val_loss: 0.4763\n",
      "Epoch 56/500\n",
      "37464/37464 [==============================] - 4s 113us/sample - loss: 0.4881 - val_loss: 0.4753\n",
      "Epoch 57/500\n",
      "37464/37464 [==============================] - 3s 88us/sample - loss: 0.4867 - val_loss: 0.4745\n",
      "Epoch 58/500\n",
      "37464/37464 [==============================] - 4s 95us/sample - loss: 0.4896 - val_loss: 0.4754\n",
      "Epoch 59/500\n",
      "37464/37464 [==============================] - 3s 86us/sample - loss: 0.4878 - val_loss: 0.4734\n",
      "Epoch 60/500\n",
      "37464/37464 [==============================] - 3s 87us/sample - loss: 0.4872 - val_loss: 0.4746\n",
      "Epoch 61/500\n",
      "37464/37464 [==============================] - 3s 86us/sample - loss: 0.4870 - val_loss: 0.4733\n",
      "Epoch 62/500\n",
      "37464/37464 [==============================] - 3s 87us/sample - loss: 0.4848 - val_loss: 0.4764\n",
      "Epoch 63/500\n",
      "37464/37464 [==============================] - 3s 87us/sample - loss: 0.4853 - val_loss: 0.4722\n",
      "Epoch 64/500\n",
      "37464/37464 [==============================] - 3s 86us/sample - loss: 0.4842 - val_loss: 0.4715\n",
      "Epoch 65/500\n",
      "37464/37464 [==============================] - 3s 87us/sample - loss: 0.4849 - val_loss: 0.4715\n",
      "Epoch 66/500\n",
      "37464/37464 [==============================] - 3s 91us/sample - loss: 0.4845 - val_loss: 0.4702\n",
      "Epoch 67/500\n",
      "37464/37464 [==============================] - 3s 87us/sample - loss: 0.4838 - val_loss: 0.4729\n",
      "Epoch 68/500\n",
      "37464/37464 [==============================] - 3s 89us/sample - loss: 0.4824 - val_loss: 0.4701\n",
      "Epoch 69/500\n",
      "37464/37464 [==============================] - 3s 87us/sample - loss: 0.4815 - val_loss: 0.4689\n",
      "Epoch 70/500\n",
      "37464/37464 [==============================] - 3s 87us/sample - loss: 0.4816 - val_loss: 0.4708\n",
      "Epoch 71/500\n",
      "37464/37464 [==============================] - 3s 87us/sample - loss: 0.4809 - val_loss: 0.4688\n",
      "Epoch 72/500\n",
      "37464/37464 [==============================] - 3s 86us/sample - loss: 0.4819 - val_loss: 0.4701\n",
      "Epoch 73/500\n",
      "37464/37464 [==============================] - 3s 86us/sample - loss: 0.4794 - val_loss: 0.4685\n",
      "Epoch 74/500\n",
      "37464/37464 [==============================] - 3s 86us/sample - loss: 0.4809 - val_loss: 0.4663\n",
      "Epoch 75/500\n",
      "37464/37464 [==============================] - 3s 86us/sample - loss: 0.4780 - val_loss: 0.4677\n",
      "Epoch 76/500\n",
      "37464/37464 [==============================] - 3s 92us/sample - loss: 0.4797 - val_loss: 0.4668\n",
      "Epoch 77/500\n",
      "37464/37464 [==============================] - 4s 112us/sample - loss: 0.4789 - val_loss: 0.4682\n",
      "Epoch 78/500\n",
      "37464/37464 [==============================] - 4s 103us/sample - loss: 0.4791 - val_loss: 0.4686\n",
      "Epoch 79/500\n",
      "37464/37464 [==============================] - 4s 102us/sample - loss: 0.4781 - val_loss: 0.4678\n",
      "Epoch 80/500\n",
      "37464/37464 [==============================] - 4s 102us/sample - loss: 0.4779 - val_loss: 0.4654\n",
      "Epoch 81/500\n",
      "37464/37464 [==============================] - 4s 108us/sample - loss: 0.4770 - val_loss: 0.4653\n",
      "Epoch 82/500\n",
      "37464/37464 [==============================] - 4s 102us/sample - loss: 0.4777 - val_loss: 0.4665\n",
      "Epoch 83/500\n",
      "37464/37464 [==============================] - 4s 102us/sample - loss: 0.4762 - val_loss: 0.4644\n",
      "Epoch 84/500\n",
      "37464/37464 [==============================] - 4s 102us/sample - loss: 0.4769 - val_loss: 0.4655\n",
      "Epoch 85/500\n",
      "37464/37464 [==============================] - 4s 102us/sample - loss: 0.4767 - val_loss: 0.4623\n",
      "Epoch 86/500\n",
      "37464/37464 [==============================] - 4s 101us/sample - loss: 0.4749 - val_loss: 0.4636\n",
      "Epoch 87/500\n",
      "37464/37464 [==============================] - 4s 102us/sample - loss: 0.4739 - val_loss: 0.4660\n",
      "Epoch 88/500\n",
      "37464/37464 [==============================] - 4s 103us/sample - loss: 0.4745 - val_loss: 0.4627\n",
      "Epoch 89/500\n",
      "37464/37464 [==============================] - 4s 102us/sample - loss: 0.4731 - val_loss: 0.4633\n",
      "Epoch 90/500\n",
      "37464/37464 [==============================] - 4s 118us/sample - loss: 0.4722 - val_loss: 0.4620\n",
      "Epoch 91/500\n",
      "37464/37464 [==============================] - 4s 102us/sample - loss: 0.4728 - val_loss: 0.4614\n",
      "Epoch 92/500\n",
      "37464/37464 [==============================] - 4s 108us/sample - loss: 0.4732 - val_loss: 0.4653\n",
      "Epoch 93/500\n",
      "37464/37464 [==============================] - 4s 101us/sample - loss: 0.4730 - val_loss: 0.4594\n",
      "Epoch 94/500\n",
      "37464/37464 [==============================] - 3s 90us/sample - loss: 0.4715 - val_loss: 0.4594\n",
      "Epoch 95/500\n",
      "37464/37464 [==============================] - 3s 88us/sample - loss: 0.4712 - val_loss: 0.4589\n",
      "Epoch 96/500\n",
      "37464/37464 [==============================] - 3s 86us/sample - loss: 0.4703 - val_loss: 0.4616\n",
      "Epoch 97/500\n",
      "37464/37464 [==============================] - 4s 113us/sample - loss: 0.4703 - val_loss: 0.4583\n",
      "Epoch 98/500\n",
      "37464/37464 [==============================] - 5s 141us/sample - loss: 0.4709 - val_loss: 0.4611\n",
      "Epoch 99/500\n",
      "37464/37464 [==============================] - 5s 141us/sample - loss: 0.4705 - val_loss: 0.4644\n",
      "Epoch 100/500\n",
      "37464/37464 [==============================] - 5s 132us/sample - loss: 0.4684 - val_loss: 0.4587\n",
      "Epoch 101/500\n",
      "37464/37464 [==============================] - 3s 89us/sample - loss: 0.4685 - val_loss: 0.4575\n",
      "Epoch 102/500\n",
      "37464/37464 [==============================] - 3s 87us/sample - loss: 0.4683 - val_loss: 0.4562\n",
      "Epoch 103/500\n",
      "37464/37464 [==============================] - 3s 87us/sample - loss: 0.4681 - val_loss: 0.4560\n",
      "Epoch 104/500\n",
      "37464/37464 [==============================] - 3s 87us/sample - loss: 0.4684 - val_loss: 0.4582\n",
      "Epoch 105/500\n",
      "37464/37464 [==============================] - 3s 87us/sample - loss: 0.4684 - val_loss: 0.4573\n",
      "Epoch 106/500\n",
      "37464/37464 [==============================] - 3s 87us/sample - loss: 0.4671 - val_loss: 0.4558\n",
      "Epoch 107/500\n",
      "37464/37464 [==============================] - 3s 88us/sample - loss: 0.4657 - val_loss: 0.4550\n",
      "Epoch 108/500\n",
      "37464/37464 [==============================] - 4s 94us/sample - loss: 0.4664 - val_loss: 0.4559\n",
      "Epoch 109/500\n",
      "37464/37464 [==============================] - 3s 87us/sample - loss: 0.4657 - val_loss: 0.4555\n",
      "Epoch 110/500\n",
      "37464/37464 [==============================] - 3s 88us/sample - loss: 0.4671 - val_loss: 0.4536\n",
      "Epoch 111/500\n",
      "37464/37464 [==============================] - 3s 87us/sample - loss: 0.4654 - val_loss: 0.4549\n",
      "Epoch 112/500\n",
      "37464/37464 [==============================] - 3s 86us/sample - loss: 0.4645 - val_loss: 0.4538\n",
      "Epoch 113/500\n",
      "37464/37464 [==============================] - 3s 86us/sample - loss: 0.4631 - val_loss: 0.4535\n",
      "Epoch 114/500\n",
      "37464/37464 [==============================] - 3s 86us/sample - loss: 0.4625 - val_loss: 0.4566\n",
      "Epoch 115/500\n",
      "37464/37464 [==============================] - 3s 86us/sample - loss: 0.4634 - val_loss: 0.4518\n",
      "Epoch 116/500\n",
      "37464/37464 [==============================] - 4s 96us/sample - loss: 0.4621 - val_loss: 0.4507\n",
      "Epoch 117/500\n",
      "37464/37464 [==============================] - 3s 92us/sample - loss: 0.4635 - val_loss: 0.4511\n",
      "Epoch 118/500\n",
      "37464/37464 [==============================] - 3s 87us/sample - loss: 0.4630 - val_loss: 0.4539\n",
      "Epoch 119/500\n",
      "37464/37464 [==============================] - 3s 88us/sample - loss: 0.4630 - val_loss: 0.4520\n",
      "Epoch 120/500\n",
      "37464/37464 [==============================] - 3s 86us/sample - loss: 0.4626 - val_loss: 0.4529\n",
      "Epoch 121/500\n",
      "37464/37464 [==============================] - 3s 86us/sample - loss: 0.4631 - val_loss: 0.4508\n",
      "Epoch 122/500\n",
      "37464/37464 [==============================] - 3s 86us/sample - loss: 0.4613 - val_loss: 0.4487\n",
      "Epoch 123/500\n",
      "37464/37464 [==============================] - 3s 86us/sample - loss: 0.4624 - val_loss: 0.4509\n",
      "Epoch 124/500\n",
      "37464/37464 [==============================] - 3s 86us/sample - loss: 0.4615 - val_loss: 0.4488\n",
      "Epoch 125/500\n",
      "37464/37464 [==============================] - 3s 88us/sample - loss: 0.4608 - val_loss: 0.4500\n",
      "Epoch 126/500\n",
      "37464/37464 [==============================] - 4s 106us/sample - loss: 0.4611 - val_loss: 0.4490\n",
      "Epoch 127/500\n",
      "37464/37464 [==============================] - 4s 110us/sample - loss: 0.4599 - val_loss: 0.4499\n",
      "Epoch 128/500\n",
      "37464/37464 [==============================] - 4s 102us/sample - loss: 0.4596 - val_loss: 0.4476\n",
      "Epoch 129/500\n",
      "37464/37464 [==============================] - 4s 103us/sample - loss: 0.4608 - val_loss: 0.4489\n",
      "Epoch 130/500\n",
      "37464/37464 [==============================] - 4s 102us/sample - loss: 0.4592 - val_loss: 0.4483\n",
      "Epoch 131/500\n",
      "37464/37464 [==============================] - 4s 109us/sample - loss: 0.4586 - val_loss: 0.4495\n",
      "Epoch 132/500\n",
      "37464/37464 [==============================] - 4s 110us/sample - loss: 0.4576 - val_loss: 0.4493\n",
      "Epoch 133/500\n",
      "37464/37464 [==============================] - 4s 103us/sample - loss: 0.4582 - val_loss: 0.4491\n",
      "Epoch 134/500\n",
      "37464/37464 [==============================] - 4s 102us/sample - loss: 0.4591 - val_loss: 0.4477\n",
      "Epoch 135/500\n",
      "37464/37464 [==============================] - 4s 103us/sample - loss: 0.4580 - val_loss: 0.4474\n",
      "Epoch 136/500\n",
      "37464/37464 [==============================] - 4s 102us/sample - loss: 0.4573 - val_loss: 0.4482\n",
      "Epoch 137/500\n",
      "37464/37464 [==============================] - 4s 102us/sample - loss: 0.4575 - val_loss: 0.4470\n",
      "Epoch 138/500\n",
      "37464/37464 [==============================] - 4s 108us/sample - loss: 0.4578 - val_loss: 0.4461\n",
      "Epoch 139/500\n",
      "37464/37464 [==============================] - 4s 102us/sample - loss: 0.4567 - val_loss: 0.4459\n",
      "Epoch 140/500\n",
      "37464/37464 [==============================] - 4s 118us/sample - loss: 0.4578 - val_loss: 0.4446\n",
      "Epoch 141/500\n",
      "37464/37464 [==============================] - 5s 127us/sample - loss: 0.4564 - val_loss: 0.4476\n",
      "Epoch 142/500\n",
      "37464/37464 [==============================] - 5s 131us/sample - loss: 0.4578 - val_loss: 0.4472\n",
      "Epoch 143/500\n",
      "37464/37464 [==============================] - 4s 119us/sample - loss: 0.4561 - val_loss: 0.4510\n",
      "Epoch 144/500\n",
      "37464/37464 [==============================] - 3s 86us/sample - loss: 0.4571 - val_loss: 0.4447\n",
      "Epoch 145/500\n",
      "37464/37464 [==============================] - 3s 87us/sample - loss: 0.4558 - val_loss: 0.4449\n",
      "Epoch 146/500\n"
     ]
    },
    {
     "name": "stdout",
     "output_type": "stream",
     "text": [
      "37464/37464 [==============================] - 3s 86us/sample - loss: 0.4556 - val_loss: 0.4429\n",
      "Epoch 147/500\n",
      "37464/37464 [==============================] - 3s 85us/sample - loss: 0.4555 - val_loss: 0.4427\n",
      "Epoch 148/500\n",
      "37464/37464 [==============================] - 3s 86us/sample - loss: 0.4558 - val_loss: 0.4448\n",
      "Epoch 149/500\n",
      "37464/37464 [==============================] - 3s 86us/sample - loss: 0.4548 - val_loss: 0.4470\n",
      "Epoch 150/500\n",
      "37464/37464 [==============================] - 3s 85us/sample - loss: 0.4535 - val_loss: 0.4425\n",
      "Epoch 151/500\n",
      "37464/37464 [==============================] - 4s 95us/sample - loss: 0.4540 - val_loss: 0.4477\n",
      "Epoch 152/500\n",
      "37464/37464 [==============================] - 3s 92us/sample - loss: 0.4534 - val_loss: 0.4420\n",
      "Epoch 153/500\n",
      "37464/37464 [==============================] - 3s 86us/sample - loss: 0.4540 - val_loss: 0.4446\n",
      "Epoch 154/500\n",
      "37464/37464 [==============================] - 3s 93us/sample - loss: 0.4535 - val_loss: 0.4482\n",
      "Epoch 155/500\n",
      "37464/37464 [==============================] - 3s 90us/sample - loss: 0.4529 - val_loss: 0.4460\n",
      "Epoch 156/500\n",
      "37464/37464 [==============================] - 3s 87us/sample - loss: 0.4533 - val_loss: 0.4434\n",
      "Epoch 157/500\n",
      "37464/37464 [==============================] - 3s 89us/sample - loss: 0.4520 - val_loss: 0.4429\n",
      "Epoch 158/500\n",
      "37464/37464 [==============================] - 4s 95us/sample - loss: 0.4529 - val_loss: 0.4391\n",
      "Epoch 159/500\n",
      "37464/37464 [==============================] - 3s 85us/sample - loss: 0.4513 - val_loss: 0.4395\n",
      "Epoch 160/500\n",
      "37464/37464 [==============================] - 3s 86us/sample - loss: 0.4537 - val_loss: 0.4403\n",
      "Epoch 161/500\n",
      "37464/37464 [==============================] - 3s 86us/sample - loss: 0.4520 - val_loss: 0.4430\n",
      "Epoch 162/500\n",
      "37464/37464 [==============================] - 3s 85us/sample - loss: 0.4520 - val_loss: 0.4442\n",
      "Epoch 163/500\n",
      "37464/37464 [==============================] - 3s 88us/sample - loss: 0.4521 - val_loss: 0.4408\n",
      "Epoch 164/500\n",
      "37464/37464 [==============================] - 3s 86us/sample - loss: 0.4523 - val_loss: 0.4421\n",
      "Epoch 165/500\n",
      "37464/37464 [==============================] - 3s 86us/sample - loss: 0.4526 - val_loss: 0.4449\n",
      "Epoch 166/500\n",
      "37464/37464 [==============================] - 3s 91us/sample - loss: 0.4513 - val_loss: 0.4392\n",
      "Epoch 167/500\n",
      "37464/37464 [==============================] - 3s 86us/sample - loss: 0.4525 - val_loss: 0.4399\n",
      "Epoch 168/500\n",
      "37464/37464 [==============================] - 3s 86us/sample - loss: 0.4505 - val_loss: 0.4406\n",
      "Epoch 169/500\n",
      "37464/37464 [==============================] - 3s 86us/sample - loss: 0.4500 - val_loss: 0.4373\n",
      "Epoch 170/500\n",
      "37464/37464 [==============================] - 3s 86us/sample - loss: 0.4511 - val_loss: 0.4359\n",
      "Epoch 171/500\n",
      "37464/37464 [==============================] - 3s 86us/sample - loss: 0.4497 - val_loss: 0.4425\n",
      "Epoch 172/500\n",
      "37464/37464 [==============================] - 3s 86us/sample - loss: 0.4512 - val_loss: 0.4402\n",
      "Epoch 173/500\n",
      "37464/37464 [==============================] - 3s 86us/sample - loss: 0.4491 - val_loss: 0.4387\n",
      "Epoch 174/500\n",
      "37464/37464 [==============================] - 3s 86us/sample - loss: 0.4487 - val_loss: 0.4343\n",
      "Epoch 175/500\n",
      "37464/37464 [==============================] - 3s 86us/sample - loss: 0.4488 - val_loss: 0.4393\n",
      "Epoch 176/500\n",
      "37464/37464 [==============================] - 3s 92us/sample - loss: 0.4496 - val_loss: 0.4402\n",
      "Epoch 177/500\n",
      "37464/37464 [==============================] - 4s 111us/sample - loss: 0.4486 - val_loss: 0.4363\n",
      "Epoch 178/500\n",
      "37464/37464 [==============================] - 4s 104us/sample - loss: 0.4494 - val_loss: 0.4338\n",
      "Epoch 179/500\n",
      "37464/37464 [==============================] - 4s 101us/sample - loss: 0.4485 - val_loss: 0.4378\n",
      "Epoch 180/500\n",
      "37464/37464 [==============================] - 4s 103us/sample - loss: 0.4474 - val_loss: 0.4361\n",
      "Epoch 181/500\n",
      "37464/37464 [==============================] - 4s 111us/sample - loss: 0.4462 - val_loss: 0.4352\n",
      "Epoch 182/500\n",
      "37464/37464 [==============================] - 4s 103us/sample - loss: 0.4465 - val_loss: 0.4356\n",
      "Epoch 183/500\n",
      "37464/37464 [==============================] - 4s 102us/sample - loss: 0.4484 - val_loss: 0.4381\n",
      "Epoch 184/500\n",
      "37464/37464 [==============================] - 4s 102us/sample - loss: 0.4480 - val_loss: 0.4362\n",
      "Epoch 185/500\n",
      "37464/37464 [==============================] - 4s 102us/sample - loss: 0.4470 - val_loss: 0.4359\n",
      "Epoch 186/500\n",
      "37464/37464 [==============================] - 4s 102us/sample - loss: 0.4476 - val_loss: 0.4401\n",
      "Epoch 187/500\n",
      "37464/37464 [==============================] - 4s 102us/sample - loss: 0.4469 - val_loss: 0.4359\n",
      "Epoch 188/500\n",
      "37464/37464 [==============================] - 4s 102us/sample - loss: 0.4463 - val_loss: 0.4380\n",
      "Epoch 189/500\n",
      "37464/37464 [==============================] - 4s 103us/sample - loss: 0.4462 - val_loss: 0.4385\n",
      "Epoch 190/500\n",
      "37464/37464 [==============================] - 4s 102us/sample - loss: 0.4458 - val_loss: 0.4370\n",
      "Epoch 191/500\n",
      "37464/37464 [==============================] - 4s 102us/sample - loss: 0.4476 - val_loss: 0.4345\n",
      "Epoch 192/500\n",
      "37464/37464 [==============================] - 4s 107us/sample - loss: 0.4456 - val_loss: 0.4342\n",
      "Epoch 193/500\n",
      "37464/37464 [==============================] - 4s 104us/sample - loss: 0.4453 - val_loss: 0.4339\n",
      "Epoch 194/500\n",
      "37464/37464 [==============================] - 3s 87us/sample - loss: 0.4447 - val_loss: 0.4313\n",
      "Epoch 195/500\n",
      "37464/37464 [==============================] - 3s 88us/sample - loss: 0.4442 - val_loss: 0.4309\n",
      "Epoch 196/500\n",
      "37464/37464 [==============================] - 3s 87us/sample - loss: 0.4443 - val_loss: 0.4319\n",
      "Epoch 197/500\n",
      "37464/37464 [==============================] - 3s 87us/sample - loss: 0.4459 - val_loss: 0.4337\n",
      "Epoch 198/500\n",
      "37464/37464 [==============================] - 3s 86us/sample - loss: 0.4446 - val_loss: 0.4324\n",
      "Epoch 199/500\n",
      "37464/37464 [==============================] - 3s 88us/sample - loss: 0.4446 - val_loss: 0.4341\n",
      "Epoch 200/500\n",
      "37464/37464 [==============================] - 3s 90us/sample - loss: 0.4440 - val_loss: 0.4310\n",
      "Epoch 201/500\n",
      "37464/37464 [==============================] - 3s 90us/sample - loss: 0.4455 - val_loss: 0.4326\n",
      "Epoch 202/500\n",
      "37464/37464 [==============================] - 4s 103us/sample - loss: 0.4432 - val_loss: 0.4332\n",
      "Epoch 203/500\n",
      "37464/37464 [==============================] - 3s 88us/sample - loss: 0.4439 - val_loss: 0.4316\n",
      "Epoch 204/500\n",
      "37464/37464 [==============================] - 3s 87us/sample - loss: 0.4430 - val_loss: 0.4337\n",
      "Epoch 205/500\n",
      "37464/37464 [==============================] - 3s 87us/sample - loss: 0.4439 - val_loss: 0.4337\n",
      "Epoch 206/500\n",
      "37464/37464 [==============================] - 3s 87us/sample - loss: 0.4427 - val_loss: 0.4279\n",
      "Epoch 207/500\n",
      "37464/37464 [==============================] - 3s 86us/sample - loss: 0.4441 - val_loss: 0.4307\n",
      "Epoch 208/500\n",
      "37464/37464 [==============================] - 3s 87us/sample - loss: 0.4429 - val_loss: 0.4273\n",
      "Epoch 209/500\n",
      "37464/37464 [==============================] - 3s 89us/sample - loss: 0.4428 - val_loss: 0.4288\n",
      "Epoch 210/500\n",
      "37464/37464 [==============================] - 4s 94us/sample - loss: 0.4421 - val_loss: 0.4289\n",
      "Epoch 211/500\n",
      "37464/37464 [==============================] - 3s 87us/sample - loss: 0.4410 - val_loss: 0.4330\n",
      "Epoch 212/500\n",
      "37464/37464 [==============================] - 3s 88us/sample - loss: 0.4420 - val_loss: 0.4313\n",
      "Epoch 213/500\n",
      "37464/37464 [==============================] - 3s 87us/sample - loss: 0.4415 - val_loss: 0.4358\n",
      "Epoch 214/500\n",
      "37464/37464 [==============================] - 3s 87us/sample - loss: 0.4407 - val_loss: 0.4269\n",
      "Epoch 215/500\n",
      "37464/37464 [==============================] - 3s 87us/sample - loss: 0.4420 - val_loss: 0.4354\n",
      "Epoch 216/500\n",
      "37464/37464 [==============================] - 3s 87us/sample - loss: 0.4411 - val_loss: 0.4268\n",
      "Epoch 217/500\n",
      "37464/37464 [==============================] - 3s 87us/sample - loss: 0.4405 - val_loss: 0.4306\n",
      "Epoch 218/500\n",
      "37464/37464 [==============================] - 3s 88us/sample - loss: 0.4414 - val_loss: 0.4257\n",
      "Epoch 219/500\n",
      "37464/37464 [==============================] - 3s 87us/sample - loss: 0.4411 - val_loss: 0.4252\n",
      "Epoch 220/500\n",
      "37464/37464 [==============================] - 3s 87us/sample - loss: 0.4392 - val_loss: 0.4292\n",
      "Epoch 221/500\n",
      "37464/37464 [==============================] - 3s 86us/sample - loss: 0.4393 - val_loss: 0.4258\n",
      "Epoch 222/500\n",
      "37464/37464 [==============================] - 3s 86us/sample - loss: 0.4399 - val_loss: 0.4250\n",
      "Epoch 223/500\n",
      "37464/37464 [==============================] - 4s 95us/sample - loss: 0.4378 - val_loss: 0.4229\n",
      "Epoch 224/500\n",
      "37464/37464 [==============================] - 3s 87us/sample - loss: 0.4389 - val_loss: 0.4293\n",
      "Epoch 225/500\n",
      "37464/37464 [==============================] - 3s 86us/sample - loss: 0.4384 - val_loss: 0.4251\n",
      "Epoch 226/500\n",
      "37464/37464 [==============================] - 3s 86us/sample - loss: 0.4405 - val_loss: 0.4329\n",
      "Epoch 227/500\n",
      "37464/37464 [==============================] - 3s 87us/sample - loss: 0.4395 - val_loss: 0.4237\n",
      "Epoch 228/500\n",
      "37464/37464 [==============================] - 4s 106us/sample - loss: 0.4378 - val_loss: 0.4235\n",
      "Epoch 229/500\n",
      "37464/37464 [==============================] - 4s 110us/sample - loss: 0.4378 - val_loss: 0.4236\n",
      "Epoch 230/500\n",
      "37464/37464 [==============================] - 4s 101us/sample - loss: 0.4396 - val_loss: 0.4239\n",
      "Epoch 231/500\n",
      "37464/37464 [==============================] - 4s 118us/sample - loss: 0.4396 - val_loss: 0.4305\n",
      "Epoch 232/500\n",
      "37464/37464 [==============================] - 5s 124us/sample - loss: 0.4373 - val_loss: 0.4229\n",
      "Epoch 233/500\n",
      "37464/37464 [==============================] - 5s 124us/sample - loss: 0.4374 - val_loss: 0.4243\n",
      "Epoch 234/500\n",
      "37464/37464 [==============================] - 4s 119us/sample - loss: 0.4393 - val_loss: 0.4260\n",
      "Epoch 235/500\n",
      "37464/37464 [==============================] - 4s 103us/sample - loss: 0.4379 - val_loss: 0.4233\n",
      "Epoch 236/500\n",
      "37464/37464 [==============================] - 4s 102us/sample - loss: 0.4355 - val_loss: 0.4233\n",
      "Epoch 237/500\n",
      "37464/37464 [==============================] - 4s 102us/sample - loss: 0.4385 - val_loss: 0.4206\n",
      "Epoch 238/500\n",
      "37464/37464 [==============================] - 4s 101us/sample - loss: 0.4383 - val_loss: 0.4207\n",
      "Epoch 239/500\n",
      "37464/37464 [==============================] - 4s 101us/sample - loss: 0.4375 - val_loss: 0.4332\n",
      "Epoch 240/500\n",
      "37464/37464 [==============================] - 4s 102us/sample - loss: 0.4361 - val_loss: 0.4214\n",
      "Epoch 241/500\n",
      "37464/37464 [==============================] - 4s 102us/sample - loss: 0.4371 - val_loss: 0.4281\n",
      "Epoch 242/500\n",
      "37464/37464 [==============================] - 4s 102us/sample - loss: 0.4345 - val_loss: 0.4237\n",
      "Epoch 243/500\n",
      "37464/37464 [==============================] - 4s 103us/sample - loss: 0.4369 - val_loss: 0.4240\n",
      "Epoch 244/500\n",
      "37464/37464 [==============================] - 4s 106us/sample - loss: 0.4382 - val_loss: 0.4239\n",
      "Epoch 245/500\n",
      "37464/37464 [==============================] - 4s 98us/sample - loss: 0.4356 - val_loss: 0.4276\n",
      "Epoch 246/500\n",
      "37464/37464 [==============================] - 3s 86us/sample - loss: 0.4374 - val_loss: 0.4277\n",
      "Epoch 247/500\n",
      "37464/37464 [==============================] - 3s 86us/sample - loss: 0.4374 - val_loss: 0.4225\n",
      "Epoch 248/500\n",
      "37464/37464 [==============================] - 3s 87us/sample - loss: 0.4353 - val_loss: 0.4261\n",
      "Epoch 249/500\n",
      "37464/37464 [==============================] - 3s 85us/sample - loss: 0.4349 - val_loss: 0.4203\n",
      "Epoch 250/500\n",
      "37464/37464 [==============================] - 3s 86us/sample - loss: 0.4363 - val_loss: 0.4201\n",
      "Epoch 251/500\n",
      "37464/37464 [==============================] - 3s 86us/sample - loss: 0.4348 - val_loss: 0.4221\n",
      "Epoch 252/500\n",
      "37464/37464 [==============================] - 3s 86us/sample - loss: 0.4333 - val_loss: 0.4242\n",
      "Epoch 253/500\n",
      "37464/37464 [==============================] - 3s 89us/sample - loss: 0.4352 - val_loss: 0.4199\n",
      "Epoch 254/500\n",
      "37464/37464 [==============================] - 4s 102us/sample - loss: 0.4352 - val_loss: 0.4240\n",
      "Epoch 255/500\n",
      "37464/37464 [==============================] - 3s 86us/sample - loss: 0.4338 - val_loss: 0.4189\n",
      "Epoch 256/500\n",
      "37464/37464 [==============================] - 3s 86us/sample - loss: 0.4351 - val_loss: 0.4211\n",
      "Epoch 257/500\n",
      "37464/37464 [==============================] - 3s 86us/sample - loss: 0.4357 - val_loss: 0.4173\n",
      "Epoch 258/500\n",
      "37464/37464 [==============================] - 3s 85us/sample - loss: 0.4332 - val_loss: 0.4241\n",
      "Epoch 259/500\n",
      "37464/37464 [==============================] - 3s 86us/sample - loss: 0.4356 - val_loss: 0.4195\n",
      "Epoch 260/500\n",
      "37464/37464 [==============================] - 3s 91us/sample - loss: 0.4336 - val_loss: 0.4185\n",
      "Epoch 261/500\n",
      "37464/37464 [==============================] - 3s 91us/sample - loss: 0.4338 - val_loss: 0.4216\n",
      "Epoch 262/500\n",
      "37464/37464 [==============================] - 3s 86us/sample - loss: 0.4345 - val_loss: 0.4250\n",
      "Epoch 263/500\n",
      "37464/37464 [==============================] - 3s 87us/sample - loss: 0.4336 - val_loss: 0.4205\n",
      "Epoch 264/500\n",
      "37464/37464 [==============================] - 3s 86us/sample - loss: 0.4338 - val_loss: 0.4184\n",
      "Epoch 265/500\n",
      "37464/37464 [==============================] - 3s 86us/sample - loss: 0.4338 - val_loss: 0.4198\n",
      "Epoch 266/500\n",
      "37464/37464 [==============================] - 3s 86us/sample - loss: 0.4343 - val_loss: 0.4236\n",
      "Epoch 267/500\n",
      "37464/37464 [==============================] - 3s 86us/sample - loss: 0.4342 - val_loss: 0.4190\n",
      "Epoch 268/500\n",
      "37464/37464 [==============================] - 3s 87us/sample - loss: 0.4341 - val_loss: 0.4173\n",
      "Epoch 269/500\n",
      "37464/37464 [==============================] - 3s 90us/sample - loss: 0.4331 - val_loss: 0.4228\n",
      "Epoch 270/500\n",
      "37464/37464 [==============================] - 3s 86us/sample - loss: 0.4331 - val_loss: 0.4297\n",
      "Epoch 271/500\n",
      "37464/37464 [==============================] - 3s 86us/sample - loss: 0.4335 - val_loss: 0.4174\n",
      "Epoch 272/500\n",
      "37464/37464 [==============================] - 3s 86us/sample - loss: 0.4335 - val_loss: 0.4185\n",
      "Epoch 273/500\n",
      "37464/37464 [==============================] - 3s 86us/sample - loss: 0.4327 - val_loss: 0.4199\n",
      "Epoch 274/500\n",
      "37464/37464 [==============================] - 3s 86us/sample - loss: 0.4325 - val_loss: 0.4165\n",
      "Epoch 275/500\n",
      "37464/37464 [==============================] - 3s 86us/sample - loss: 0.4328 - val_loss: 0.4214\n",
      "Epoch 276/500\n",
      "37464/37464 [==============================] - 3s 86us/sample - loss: 0.4306 - val_loss: 0.4154\n",
      "Epoch 277/500\n",
      "37464/37464 [==============================] - 3s 86us/sample - loss: 0.4317 - val_loss: 0.4138\n",
      "Epoch 278/500\n",
      "37464/37464 [==============================] - 3s 89us/sample - loss: 0.4327 - val_loss: 0.4186\n",
      "Epoch 279/500\n",
      "37464/37464 [==============================] - 4s 105us/sample - loss: 0.4314 - val_loss: 0.4171\n",
      "Epoch 280/500\n",
      "37464/37464 [==============================] - 4s 110us/sample - loss: 0.4332 - val_loss: 0.4197\n",
      "Epoch 281/500\n",
      "37464/37464 [==============================] - 4s 102us/sample - loss: 0.4302 - val_loss: 0.4160\n",
      "Epoch 282/500\n",
      "37464/37464 [==============================] - 4s 115us/sample - loss: 0.4322 - val_loss: 0.4197\n",
      "Epoch 283/500\n",
      "37464/37464 [==============================] - 4s 119us/sample - loss: 0.4305 - val_loss: 0.4242\n",
      "Epoch 284/500\n",
      "37464/37464 [==============================] - 4s 101us/sample - loss: 0.4321 - val_loss: 0.4209\n",
      "Epoch 285/500\n",
      "37464/37464 [==============================] - 4s 102us/sample - loss: 0.4309 - val_loss: 0.4155\n",
      "Epoch 286/500\n",
      "37464/37464 [==============================] - 4s 103us/sample - loss: 0.4321 - val_loss: 0.4187\n",
      "Epoch 287/500\n",
      "37464/37464 [==============================] - 4s 102us/sample - loss: 0.4330 - val_loss: 0.4158\n",
      "Epoch 288/500\n",
      "37464/37464 [==============================] - 4s 102us/sample - loss: 0.4322 - val_loss: 0.4171\n",
      "Epoch 289/500\n",
      "37464/37464 [==============================] - 4s 101us/sample - loss: 0.4308 - val_loss: 0.4171\n",
      "Epoch 290/500\n",
      "37464/37464 [==============================] - 4s 103us/sample - loss: 0.4322 - val_loss: 0.4152\n",
      "Epoch 291/500\n",
      "37464/37464 [==============================] - 4s 103us/sample - loss: 0.4304 - val_loss: 0.4148\n",
      "Epoch 292/500\n",
      "37464/37464 [==============================] - 4s 101us/sample - loss: 0.4300 - val_loss: 0.4175\n",
      "Epoch 293/500\n",
      "37464/37464 [==============================] - 4s 102us/sample - loss: 0.4323 - val_loss: 0.4171\n",
      "Epoch 294/500\n"
     ]
    },
    {
     "name": "stdout",
     "output_type": "stream",
     "text": [
      "37464/37464 [==============================] - 4s 107us/sample - loss: 0.4310 - val_loss: 0.4162\n",
      "Epoch 295/500\n",
      "37464/37464 [==============================] - 4s 105us/sample - loss: 0.4308 - val_loss: 0.4180\n",
      "Epoch 296/500\n",
      "37464/37464 [==============================] - 3s 93us/sample - loss: 0.4310 - val_loss: 0.4185\n",
      "Epoch 297/500\n",
      "37464/37464 [==============================] - 3s 86us/sample - loss: 0.4319 - val_loss: 0.4138\n",
      "Epoch 00297: early stopping\n"
     ]
    },
    {
     "data": {
      "text/plain": [
       "<tensorflow.python.keras.callbacks.History at 0x1e4384b44c8>"
      ]
     },
     "execution_count": 41,
     "metadata": {},
     "output_type": "execute_result"
    }
   ],
   "source": [
    "model.fit(x=X_train,y=y_train,epochs=500, validation_data=(X_test,y_test), callbacks=[early])"
   ]
  },
  {
   "cell_type": "code",
   "execution_count": 42,
   "metadata": {},
   "outputs": [
    {
     "data": {
      "text/plain": [
       "[<matplotlib.lines.Line2D at 0x1e43d6d8908>,\n",
       " <matplotlib.lines.Line2D at 0x1e43d6d8b88>]"
      ]
     },
     "execution_count": 42,
     "metadata": {},
     "output_type": "execute_result"
    },
    {
     "data": {
      "image/png": "[encoded data removed]",
      "text/plain": [
       "<Figure size 432x288 with 1 Axes>"
      ]
     },
     "metadata": {
      "needs_background": "light"
     },
     "output_type": "display_data"
    }
   ],
   "source": [
    "plt.plot(pd.DataFrame(model.history.history))"
   ]
  },
  {
   "cell_type": "code",
   "execution_count": 43,
   "metadata": {},
   "outputs": [],
   "source": [
    "y_pred_ran = model.predict(X_test)"
   ]
  },
  {
   "cell_type": "code",
   "execution_count": 44,
   "metadata": {},
   "outputs": [],
   "source": [
    "y_pred = y_pred_ran>0.5"
   ]
  },
  {
   "cell_type": "code",
   "execution_count": 45,
   "metadata": {},
   "outputs": [],
   "source": [
    "con = confusion_matrix(y_test,y_pred)"
   ]
  },
  {
   "cell_type": "code",
   "execution_count": 46,
   "metadata": {},
   "outputs": [
    {
     "data": {
      "text/plain": [
       "0.8254484365685796"
      ]
     },
     "execution_count": 46,
     "metadata": {},
     "output_type": "execute_result"
    }
   ],
   "source": [
    "#precision is:\n",
    "(con[0,0]+con[1,1])/(con.sum())\n",
    "#is 82% - quite good for stroke"
   ]
  },
  {
   "cell_type": "code",
   "execution_count": 47,
   "metadata": {},
   "outputs": [
    {
     "data": {
      "text/plain": [
       "18453"
      ]
     },
     "execution_count": 47,
     "metadata": {},
     "output_type": "execute_result"
    }
   ],
   "source": [
    "con.sum()"
   ]
  },
  {
   "cell_type": "code",
   "execution_count": 48,
   "metadata": {},
   "outputs": [
    {
     "data": {
      "text/plain": [
       "array([[7142, 2227],\n",
       "       [ 994, 8090]], dtype=int64)"
      ]
     },
     "execution_count": 48,
     "metadata": {},
     "output_type": "execute_result"
    }
   ],
   "source": [
    "con"
   ]
  },
  {
   "cell_type": "code",
   "execution_count": null,
   "metadata": {},
   "outputs": [],
   "source": [
    "#This is still not enough... still missing the Result - e.g. what measure can you do for not having stroke? maybe in the future\n",
    "#BUT I tryed unbalanced datasets. I kind of skip the part in which I should analyse if the multiplying data change or have affect...\n",
    "#...on the result. This was skipped during time pressure - i want to go sleep."
   ]
  }
 ],
 "metadata": {
  "kernelspec": {
   "display_name": "Python 3",
   "language": "python",
   "name": "python3"
  },
  "language_info": {
   "codemirror_mode": {
    "name": "ipython",
    "version": 3
   },
   "file_extension": ".py",
   "mimetype": "text/x-python",
   "name": "python",
   "nbconvert_exporter": "python",
   "pygments_lexer": "ipython3",
   "version": "3.7.6"
  }
 },
 "nbformat": 4,
 "nbformat_minor": 4
}
