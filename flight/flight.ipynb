{
 "cells": [
  {
   "cell_type": "code",
   "execution_count": 1,
   "metadata": {},
   "outputs": [],
   "source": [
    "import pandas as pd\n",
    "import numpy as np\n",
    "import matplotlib.pyplot as plt\n",
    "import seaborn as sns\n",
    "from sklearn.preprocessing import MinMaxScaler\n",
    "from sklearn.model_selection import train_test_split\n",
    "from sklearn.linear_model import LinearRegression\n",
    "from sklearn.metrics import mean_absolute_error, mean_squared_error\n",
    "from tensorflow.keras.preprocessing.sequence import TimeseriesGenerator\n",
    "from tensorflow.keras.models import Sequential\n",
    "from tensorflow.keras.layers import Dense, LSTM\n",
    "from tensorflow.keras.callbacks import EarlyStopping"
   ]
  },
  {
   "cell_type": "code",
   "execution_count": 2,
   "metadata": {},
   "outputs": [],
   "source": [
    "flight_data = pd.read_csv('flights.csv')"
   ]
  },
  {
   "cell_type": "code",
   "execution_count": 3,
   "metadata": {},
   "outputs": [
    {
     "data": {
      "text/html": [
       "<div>\n",
       "<style scoped>\n",
       "    .dataframe tbody tr th:only-of-type {\n",
       "        vertical-align: middle;\n",
       "    }\n",
       "\n",
       "    .dataframe tbody tr th {\n",
       "        vertical-align: top;\n",
       "    }\n",
       "\n",
       "    .dataframe thead th {\n",
       "        text-align: right;\n",
       "    }\n",
       "</style>\n",
       "<table border=\"1\" class=\"dataframe\">\n",
       "  <thead>\n",
       "    <tr style=\"text-align: right;\">\n",
       "      <th></th>\n",
       "      <th>year</th>\n",
       "      <th>month</th>\n",
       "      <th>passengers</th>\n",
       "    </tr>\n",
       "  </thead>\n",
       "  <tbody>\n",
       "    <tr>\n",
       "      <th>0</th>\n",
       "      <td>1949</td>\n",
       "      <td>January</td>\n",
       "      <td>112</td>\n",
       "    </tr>\n",
       "    <tr>\n",
       "      <th>1</th>\n",
       "      <td>1949</td>\n",
       "      <td>February</td>\n",
       "      <td>118</td>\n",
       "    </tr>\n",
       "    <tr>\n",
       "      <th>2</th>\n",
       "      <td>1949</td>\n",
       "      <td>March</td>\n",
       "      <td>132</td>\n",
       "    </tr>\n",
       "    <tr>\n",
       "      <th>3</th>\n",
       "      <td>1949</td>\n",
       "      <td>April</td>\n",
       "      <td>129</td>\n",
       "    </tr>\n",
       "    <tr>\n",
       "      <th>4</th>\n",
       "      <td>1949</td>\n",
       "      <td>May</td>\n",
       "      <td>121</td>\n",
       "    </tr>\n",
       "    <tr>\n",
       "      <th>5</th>\n",
       "      <td>1949</td>\n",
       "      <td>June</td>\n",
       "      <td>135</td>\n",
       "    </tr>\n",
       "    <tr>\n",
       "      <th>6</th>\n",
       "      <td>1949</td>\n",
       "      <td>July</td>\n",
       "      <td>148</td>\n",
       "    </tr>\n",
       "    <tr>\n",
       "      <th>7</th>\n",
       "      <td>1949</td>\n",
       "      <td>August</td>\n",
       "      <td>148</td>\n",
       "    </tr>\n",
       "    <tr>\n",
       "      <th>8</th>\n",
       "      <td>1949</td>\n",
       "      <td>September</td>\n",
       "      <td>136</td>\n",
       "    </tr>\n",
       "    <tr>\n",
       "      <th>9</th>\n",
       "      <td>1949</td>\n",
       "      <td>October</td>\n",
       "      <td>119</td>\n",
       "    </tr>\n",
       "    <tr>\n",
       "      <th>10</th>\n",
       "      <td>1949</td>\n",
       "      <td>November</td>\n",
       "      <td>104</td>\n",
       "    </tr>\n",
       "    <tr>\n",
       "      <th>11</th>\n",
       "      <td>1949</td>\n",
       "      <td>December</td>\n",
       "      <td>118</td>\n",
       "    </tr>\n",
       "  </tbody>\n",
       "</table>\n",
       "</div>"
      ],
      "text/plain": [
       "    year      month  passengers\n",
       "0   1949    January         112\n",
       "1   1949   February         118\n",
       "2   1949      March         132\n",
       "3   1949      April         129\n",
       "4   1949        May         121\n",
       "5   1949       June         135\n",
       "6   1949       July         148\n",
       "7   1949     August         148\n",
       "8   1949  September         136\n",
       "9   1949    October         119\n",
       "10  1949   November         104\n",
       "11  1949   December         118"
      ]
     },
     "execution_count": 3,
     "metadata": {},
     "output_type": "execute_result"
    }
   ],
   "source": [
    "flight_data.head(12)"
   ]
  },
  {
   "cell_type": "code",
   "execution_count": 4,
   "metadata": {},
   "outputs": [
    {
     "data": {
      "text/plain": [
       "1960"
      ]
     },
     "execution_count": 4,
     "metadata": {},
     "output_type": "execute_result"
    }
   ],
   "source": [
    "flight_data['year'].max()"
   ]
  },
  {
   "cell_type": "code",
   "execution_count": 5,
   "metadata": {},
   "outputs": [],
   "source": [
    "month = {'January':1,'February':2,'March':3,'April':4,'May':5,'June':6,'July':7,'August':8,'September':9,'October':10,'November':11,'December':12}"
   ]
  },
  {
   "cell_type": "code",
   "execution_count": 6,
   "metadata": {},
   "outputs": [],
   "source": [
    "def spojovac(year,month):\n",
    "    mesic = {'January':1,'February':2,'March':3,'April':4,'May':5,'June':6,'July':7,'August':8,'September':9,'October':10,'November':11,'December':12}\n",
    "    month = str(mesic[month])\n",
    "    year = str(year)\n",
    "    a = year+'-'+month+'-01'\n",
    "    a = pd.to_datetime(a)\n",
    "    return a"
   ]
  },
  {
   "cell_type": "code",
   "execution_count": 7,
   "metadata": {},
   "outputs": [],
   "source": [
    "list_let = []\n",
    "for i in range(len(flight_data)):\n",
    "    list_let.append(spojovac(flight_data['year'][i],flight_data['month'][i]))"
   ]
  },
  {
   "cell_type": "code",
   "execution_count": 8,
   "metadata": {},
   "outputs": [
    {
     "name": "stdout",
     "output_type": "stream",
     "text": [
      "1949-01-01 00:00:00\n",
      "1949\n",
      "January\n"
     ]
    }
   ],
   "source": [
    "print(list_let[0])\n",
    "print(flight_data['year'][0])\n",
    "print(flight_data['month'][0])"
   ]
  },
  {
   "cell_type": "code",
   "execution_count": 9,
   "metadata": {},
   "outputs": [],
   "source": [
    "flight_data['date']=list_let"
   ]
  },
  {
   "cell_type": "code",
   "execution_count": 10,
   "metadata": {},
   "outputs": [],
   "source": [
    "mesic = {'January':1,'February':2,'March':3,'April':4,'May':5,'June':6,'July':7,'August':8,'September':9,'October':10,'November':11,'December':12}\n",
    "list_mont=[]\n",
    "for i in range(len(flight_data)):\n",
    "    list_mont.append(mesic[flight_data['month'][i]])\n",
    "    \n",
    "flight_data['month2']=list_mont"
   ]
  },
  {
   "cell_type": "code",
   "execution_count": 11,
   "metadata": {},
   "outputs": [
    {
     "data": {
      "text/html": [
       "<div>\n",
       "<style scoped>\n",
       "    .dataframe tbody tr th:only-of-type {\n",
       "        vertical-align: middle;\n",
       "    }\n",
       "\n",
       "    .dataframe tbody tr th {\n",
       "        vertical-align: top;\n",
       "    }\n",
       "\n",
       "    .dataframe thead th {\n",
       "        text-align: right;\n",
       "    }\n",
       "</style>\n",
       "<table border=\"1\" class=\"dataframe\">\n",
       "  <thead>\n",
       "    <tr style=\"text-align: right;\">\n",
       "      <th></th>\n",
       "      <th>year</th>\n",
       "      <th>month</th>\n",
       "      <th>passengers</th>\n",
       "      <th>date</th>\n",
       "      <th>month2</th>\n",
       "    </tr>\n",
       "  </thead>\n",
       "  <tbody>\n",
       "    <tr>\n",
       "      <th>0</th>\n",
       "      <td>1949</td>\n",
       "      <td>January</td>\n",
       "      <td>112</td>\n",
       "      <td>1949-01-01</td>\n",
       "      <td>1</td>\n",
       "    </tr>\n",
       "  </tbody>\n",
       "</table>\n",
       "</div>"
      ],
      "text/plain": [
       "   year    month  passengers       date  month2\n",
       "0  1949  January         112 1949-01-01       1"
      ]
     },
     "execution_count": 11,
     "metadata": {},
     "output_type": "execute_result"
    }
   ],
   "source": [
    "flight_data.head(1)"
   ]
  },
  {
   "cell_type": "code",
   "execution_count": 12,
   "metadata": {
    "scrolled": true
   },
   "outputs": [
    {
     "data": {
      "text/plain": [
       "[<matplotlib.lines.Line2D at 0x23bce911c48>]"
      ]
     },
     "execution_count": 12,
     "metadata": {},
     "output_type": "execute_result"
    },
    {
     "data": {
      "image/png": "[encoded data removed]",
      "text/plain": [
       "<Figure size 432x288 with 1 Axes>"
      ]
     },
     "metadata": {
      "needs_background": "light"
     },
     "output_type": "display_data"
    }
   ],
   "source": [
    "plt.plot(flight_data['date'],flight_data['passengers'])"
   ]
  },
  {
   "cell_type": "code",
   "execution_count": 13,
   "metadata": {},
   "outputs": [
    {
     "name": "stdout",
     "output_type": "stream",
     "text": [
      "1892.9307089212473\n",
      "LinearRegression(copy_X=True, fit_intercept=True, n_jobs=None, normalize=False)\n"
     ]
    }
   ],
   "source": [
    "X = flight_data.drop(['passengers','month','date'],axis=1)\n",
    "y = flight_data['passengers']\n",
    "X_train, X_test, y_train, y_test = train_test_split(X, y, test_size=0.3, random_state=42)\n",
    "lin = LinearRegression()\n",
    "lin.fit(X_train,y_train)\n",
    "prediction = lin.predict(X_test)\n",
    "print(mean_squared_error(y_test, prediction))\n",
    "print(lin)"
   ]
  },
  {
   "cell_type": "code",
   "execution_count": 14,
   "metadata": {},
   "outputs": [],
   "source": [
    "df = flight_data[['date','passengers']]"
   ]
  },
  {
   "cell_type": "code",
   "execution_count": 15,
   "metadata": {
    "scrolled": true
   },
   "outputs": [],
   "source": [
    "df = df.set_index('date')"
   ]
  },
  {
   "cell_type": "code",
   "execution_count": 16,
   "metadata": {},
   "outputs": [
    {
     "data": {
      "text/html": [
       "<div>\n",
       "<style scoped>\n",
       "    .dataframe tbody tr th:only-of-type {\n",
       "        vertical-align: middle;\n",
       "    }\n",
       "\n",
       "    .dataframe tbody tr th {\n",
       "        vertical-align: top;\n",
       "    }\n",
       "\n",
       "    .dataframe thead th {\n",
       "        text-align: right;\n",
       "    }\n",
       "</style>\n",
       "<table border=\"1\" class=\"dataframe\">\n",
       "  <thead>\n",
       "    <tr style=\"text-align: right;\">\n",
       "      <th></th>\n",
       "      <th>passengers</th>\n",
       "    </tr>\n",
       "    <tr>\n",
       "      <th>date</th>\n",
       "      <th></th>\n",
       "    </tr>\n",
       "  </thead>\n",
       "  <tbody>\n",
       "    <tr>\n",
       "      <th>1949-01-01</th>\n",
       "      <td>112</td>\n",
       "    </tr>\n",
       "    <tr>\n",
       "      <th>1949-02-01</th>\n",
       "      <td>118</td>\n",
       "    </tr>\n",
       "    <tr>\n",
       "      <th>1949-03-01</th>\n",
       "      <td>132</td>\n",
       "    </tr>\n",
       "    <tr>\n",
       "      <th>1949-04-01</th>\n",
       "      <td>129</td>\n",
       "    </tr>\n",
       "    <tr>\n",
       "      <th>1949-05-01</th>\n",
       "      <td>121</td>\n",
       "    </tr>\n",
       "  </tbody>\n",
       "</table>\n",
       "</div>"
      ],
      "text/plain": [
       "            passengers\n",
       "date                  \n",
       "1949-01-01         112\n",
       "1949-02-01         118\n",
       "1949-03-01         132\n",
       "1949-04-01         129\n",
       "1949-05-01         121"
      ]
     },
     "execution_count": 16,
     "metadata": {},
     "output_type": "execute_result"
    }
   ],
   "source": [
    "df.head()"
   ]
  },
  {
   "cell_type": "code",
   "execution_count": 22,
   "metadata": {},
   "outputs": [
    {
     "data": {
      "text/plain": [
       "(144, 1)"
      ]
     },
     "execution_count": 22,
     "metadata": {},
     "output_type": "execute_result"
    }
   ],
   "source": [
    "#len(df)\n",
    "df.shape"
   ]
  },
  {
   "cell_type": "code",
   "execution_count": 18,
   "metadata": {},
   "outputs": [
    {
     "data": {
      "text/plain": [
       "126"
      ]
     },
     "execution_count": 18,
     "metadata": {},
     "output_type": "execute_result"
    }
   ],
   "source": [
    "test_size = 18\n",
    "test_ind = len(df)-test_size\n",
    "test_ind"
   ]
  },
  {
   "cell_type": "code",
   "execution_count": 19,
   "metadata": {},
   "outputs": [],
   "source": [
    "train = df.iloc[:test_ind]\n",
    "test = df.iloc[test_ind:]"
   ]
  },
  {
   "cell_type": "code",
   "execution_count": 21,
   "metadata": {},
   "outputs": [
    {
     "data": {
      "text/plain": [
       "(126, 1)"
      ]
     },
     "execution_count": 21,
     "metadata": {},
     "output_type": "execute_result"
    }
   ],
   "source": [
    "train.shape"
   ]
  },
  {
   "cell_type": "code",
   "execution_count": 20,
   "metadata": {},
   "outputs": [],
   "source": [
    "scaler = MinMaxScaler()"
   ]
  },
  {
   "cell_type": "code",
   "execution_count": 22,
   "metadata": {},
   "outputs": [
    {
     "data": {
      "text/plain": [
       "MinMaxScaler(copy=True, feature_range=(0, 1))"
      ]
     },
     "execution_count": 22,
     "metadata": {},
     "output_type": "execute_result"
    }
   ],
   "source": [
    "scaler.fit(train)"
   ]
  },
  {
   "cell_type": "code",
   "execution_count": 23,
   "metadata": {},
   "outputs": [],
   "source": [
    "scaled_train = scaler.transform(train)\n",
    "scaled_test = scaler.transform(test)"
   ]
  },
  {
   "cell_type": "code",
   "execution_count": 24,
   "metadata": {},
   "outputs": [],
   "source": [
    "length = 12\n",
    "generator = TimeseriesGenerator(scaled_train,scaled_train, length=length, batch_size=1)"
   ]
  },
  {
   "cell_type": "code",
   "execution_count": 25,
   "metadata": {},
   "outputs": [],
   "source": [
    "X,y = generator[0]"
   ]
  },
  {
   "cell_type": "code",
   "execution_count": 26,
   "metadata": {},
   "outputs": [],
   "source": [
    "n_feature = 1"
   ]
  },
  {
   "cell_type": "code",
   "execution_count": 42,
   "metadata": {},
   "outputs": [
    {
     "name": "stdout",
     "output_type": "stream",
     "text": [
      "Model: \"sequential_1\"\n",
      "_________________________________________________________________\n",
      "Layer (type)                 Output Shape              Param #   \n",
      "=================================================================\n",
      "lstm_1 (LSTM)                (None, 500)               1004000   \n",
      "_________________________________________________________________\n",
      "dense_2 (Dense)              (None, 1)                 501       \n",
      "=================================================================\n",
      "Total params: 1,004,501\n",
      "Trainable params: 1,004,501\n",
      "Non-trainable params: 0\n",
      "_________________________________________________________________\n"
     ]
    }
   ],
   "source": [
    "model = Sequential()\n",
    "model.add(LSTM(500,activation='relu',input_shape=(length, n_feature)))\n",
    "model.add(Dense(1))\n",
    "model.compile(optimizer = 'adam', loss='mse')\n",
    "model.summary()"
   ]
  },
  {
   "cell_type": "code",
   "execution_count": 43,
   "metadata": {},
   "outputs": [],
   "source": [
    "early = EarlyStopping(monitor = 'val_loss', patience = 40)\n",
    "validation_gen = TimeseriesGenerator(scaled_test,scaled_test,length=length,batch_size=1)"
   ]
  },
  {
   "cell_type": "code",
   "execution_count": 59,
   "metadata": {
    "scrolled": true
   },
   "outputs": [
    {
     "name": "stdout",
     "output_type": "stream",
     "text": [
      "Epoch 1/200\n",
      "113/114 [============================>.] - ETA: 0s - loss: 4.0560e-04Epoch 1/200\n",
      "114/114 [==============================] - 21s 187ms/step - loss: 4.0267e-04 - val_loss: 0.0159\n",
      "Epoch 2/200\n",
      "113/114 [============================>.] - ETA: 0s - loss: 4.1237e-04Epoch 1/200\n",
      "114/114 [==============================] - 18s 158ms/step - loss: 4.1289e-04 - val_loss: 0.0113\n",
      "Epoch 3/200\n",
      "113/114 [============================>.] - ETA: 0s - loss: 3.8403e-04Epoch 1/200\n",
      "114/114 [==============================] - 22s 194ms/step - loss: 3.8321e-04 - val_loss: 0.0155\n",
      "Epoch 4/200\n",
      "113/114 [============================>.] - ETA: 0s - loss: 4.6744e-04Epoch 1/200\n",
      "114/114 [==============================] - 26s 229ms/step - loss: 4.6358e-04 - val_loss: 0.0098\n",
      "Epoch 5/200\n",
      "113/114 [============================>.] - ETA: 0s - loss: 5.9329e-04Epoch 1/200\n",
      "114/114 [==============================] - 22s 192ms/step - loss: 5.8970e-04 - val_loss: 0.0086\n",
      "Epoch 6/200\n",
      "113/114 [============================>.] - ETA: 0s - loss: 4.8652e-04Epoch 1/200\n",
      "114/114 [==============================] - 22s 195ms/step - loss: 4.8908e-04 - val_loss: 0.0091\n",
      "Epoch 7/200\n",
      "113/114 [============================>.] - ETA: 0s - loss: 5.7556e-04- ETA: 9sEpoch 1/200\n",
      "114/114 [==============================] - 22s 195ms/step - loss: 5.7078e-04 - val_loss: 0.0140\n",
      "Epoch 8/200\n",
      "113/114 [============================>.] - ETA: 0s - loss: 5.0601e-04Epoch 1/200\n",
      "114/114 [==============================] - 20s 174ms/step - loss: 5.0322e-04 - val_loss: 0.0111\n",
      "Epoch 9/200\n",
      "113/114 [============================>.] - ETA: 0s - loss: 4.5819e-04Epoch 1/200\n",
      "114/114 [==============================] - 21s 186ms/step - loss: 4.5792e-04 - val_loss: 0.0260\n",
      "Epoch 10/200\n",
      "113/114 [============================>.] - ETA: 0s - loss: 4.4883e-04Epoch 1/200\n",
      "114/114 [==============================] - 23s 199ms/step - loss: 4.5318e-04 - val_loss: 0.0136\n",
      "Epoch 11/200\n",
      "113/114 [============================>.] - ETA: 0s - loss: 3.8110e-04Epoch 1/200\n",
      "114/114 [==============================] - 19s 166ms/step - loss: 3.7816e-04 - val_loss: 0.0212\n",
      "Epoch 12/200\n",
      "113/114 [============================>.] - ETA: 0s - loss: 4.8354e-04Epoch 1/200\n",
      "114/114 [==============================] - 21s 181ms/step - loss: 4.8779e-04 - val_loss: 0.0218\n",
      "Epoch 13/200\n",
      "113/114 [============================>.] - ETA: 0s - loss: 3.8976e-04- ETA: 2s - lossEpoch 1/200\n",
      "114/114 [==============================] - 21s 187ms/step - loss: 3.8636e-04 - val_loss: 0.0069\n",
      "Epoch 14/200\n",
      "113/114 [============================>.] - ETA: 0s - loss: 3.9524e-04- ETA: 1s - loss: 3.9Epoch 1/200\n",
      "114/114 [==============================] - 21s 187ms/step - loss: 3.9554e-04 - val_loss: 0.0133\n",
      "Epoch 15/200\n",
      "113/114 [============================>.] - ETA: 0s - loss: 4.5611e-04  ETA: - ETA: 5s - loss: 3 - ETA: 3sEpoch 1/200\n",
      "114/114 [==============================] - 21s 186ms/step - loss: 4.7258e-04 - val_loss: 0.0172\n",
      "Epoch 16/200\n",
      "113/114 [============================>.] - ETA: 0s - loss: 4.0060e-04Epoch 1/200\n",
      "114/114 [==============================] - 20s 172ms/step - loss: 3.9711e-04 - val_loss: 0.0094\n",
      "Epoch 17/200\n",
      "113/114 [============================>.] - ETA: 0s - loss: 3.9157e-04Epoch 1/200\n",
      "114/114 [==============================] - 19s 168ms/step - loss: 3.9245e-04 - val_loss: 0.0115\n",
      "Epoch 18/200\n",
      "113/114 [============================>.] - ETA: 0s - loss: 3.5836e-04Epoch 1/200\n",
      "114/114 [==============================] - 19s 168ms/step - loss: 3.5668e-04 - val_loss: 0.0087\n",
      "Epoch 19/200\n",
      "113/114 [============================>.] - ETA: 0s - loss: 3.0805e-04Epoch 1/200\n",
      "114/114 [==============================] - 19s 164ms/step - loss: 3.0560e-04 - val_loss: 0.0122\n",
      "Epoch 20/200\n",
      "113/114 [============================>.] - ETA: 0s - loss: 3.6222e-04Epoch 1/200\n",
      "114/114 [==============================] - 19s 168ms/step - loss: 3.5924e-04 - val_loss: 0.0130\n",
      "Epoch 21/200\n",
      "113/114 [============================>.] - ETA: 0s - loss: 3.8170e-04Epoch 1/200\n",
      "114/114 [==============================] - 21s 182ms/step - loss: 3.7839e-04 - val_loss: 0.0136\n",
      "Epoch 22/200\n",
      "113/114 [============================>.] - ETA: 0s - loss: 3.7532e-04Epoch 1/200\n",
      "114/114 [==============================] - 23s 205ms/step - loss: 3.7251e-04 - val_loss: 0.0097\n",
      "Epoch 23/200\n",
      "113/114 [============================>.] - ETA: 0s - loss: 3.6303e-04Epoch 1/200\n",
      "114/114 [==============================] - 25s 221ms/step - loss: 3.6195e-04 - val_loss: 0.0217\n",
      "Epoch 24/200\n",
      "113/114 [============================>.] - ETA: 0s - loss: 5.2595e-04Epoch 1/200\n",
      "114/114 [==============================] - 24s 212ms/step - loss: 5.2136e-04 - val_loss: 0.0106\n",
      "Epoch 25/200\n",
      "113/114 [============================>.] - ETA: 0s - loss: 3.8414e-04- ETA: 3s - lossEpoch 1/200\n",
      "114/114 [==============================] - 26s 232ms/step - loss: 3.8111e-04 - val_loss: 0.0111\n",
      "Epoch 26/200\n",
      "113/114 [============================>.] - ETA: 0s - loss: 3.5342e-04Epoch 1/200\n",
      "114/114 [==============================] - 20s 174ms/step - loss: 3.5037e-04 - val_loss: 0.0120\n",
      "Epoch 27/200\n",
      "113/114 [============================>.] - ETA: 0s - loss: 3.4497e-04Epoch 1/200\n",
      "114/114 [==============================] - 19s 169ms/step - loss: 3.4434e-04 - val_loss: 0.0082\n",
      "Epoch 28/200\n",
      "113/114 [============================>.] - ETA: 0s - loss: 3.7318e-04Epoch 1/200\n",
      "114/114 [==============================] - 19s 170ms/step - loss: 3.6999e-04 - val_loss: 0.0121\n",
      "Epoch 29/200\n",
      "113/114 [============================>.] - ETA: 0s - loss: 2.6821e-04Epoch 1/200\n",
      "114/114 [==============================] - 23s 198ms/step - loss: 2.6598e-04 - val_loss: 0.0114\n",
      "Epoch 30/200\n",
      "113/114 [============================>.] - ETA: 0s - loss: 2.8979e-04Epoch 1/200\n",
      "114/114 [==============================] - 22s 191ms/step - loss: 2.8807e-04 - val_loss: 0.0107\n",
      "Epoch 31/200\n",
      "113/114 [============================>.] - ETA: 0s - loss: 3.0671e-04- ETA: 4s - loss: 3.181 - ETA: 3s - Epoch 1/200\n",
      "114/114 [==============================] - 22s 191ms/step - loss: 3.0405e-04 - val_loss: 0.0087\n",
      "Epoch 32/200\n",
      "113/114 [============================>.] - ETA: 0s - loss: 3.3040e-04Epoch 1/200\n",
      "114/114 [==============================] - 22s 193ms/step - loss: 3.3244e-04 - val_loss: 0.0154\n",
      "Epoch 33/200\n",
      "113/114 [============================>.] - ETA: 0s - loss: 2.6535e-04Epoch 1/200\n",
      "114/114 [==============================] - 21s 181ms/step - loss: 2.6331e-04 - val_loss: 0.0086\n",
      "Epoch 34/200\n",
      "113/114 [============================>.] - ETA: 0s - loss: 3.1296e-04Epoch 1/200\n",
      "114/114 [==============================] - 20s 174ms/step - loss: 3.1046e-04 - val_loss: 0.0160\n",
      "Epoch 35/200\n",
      "113/114 [============================>.] - ETA: 0s - loss: 4.0278e-04Epoch 1/200\n",
      "114/114 [==============================] - 19s 171ms/step - loss: 4.0452e-04 - val_loss: 0.0155\n",
      "Epoch 36/200\n",
      "113/114 [============================>.] - ETA: 0s - loss: 4.8601e-04Epoch 1/200\n",
      "114/114 [==============================] - 19s 169ms/step - loss: 4.8282e-04 - val_loss: 0.0127\n",
      "Epoch 37/200\n",
      "113/114 [============================>.] - ETA: 0s - loss: 2.6263e-04Epoch 1/200\n",
      "114/114 [==============================] - 19s 169ms/step - loss: 2.6659e-04 - val_loss: 0.0144\n",
      "Epoch 38/200\n",
      "113/114 [============================>.] - ETA: 0s - loss: 3.4526e-04Epoch 1/200\n",
      "114/114 [==============================] - 22s 194ms/step - loss: 3.4355e-04 - val_loss: 0.0099\n",
      "Epoch 39/200\n",
      "113/114 [============================>.] - ETA: 0s - loss: 2.7162e-04Epoch 1/200\n",
      "114/114 [==============================] - 24s 210ms/step - loss: 2.6938e-04 - val_loss: 0.0095\n",
      "Epoch 40/200\n",
      "113/114 [============================>.] - ETA: 0s - loss: 3.2498e-04Epoch 1/200\n",
      "114/114 [==============================] - 29s 255ms/step - loss: 3.2621e-04 - val_loss: 0.0164\n",
      "Epoch 41/200\n",
      "113/114 [============================>.] - ETA: 0s - loss: 3.2054e-04Epoch 1/200\n",
      "114/114 [==============================] - 24s 211ms/step - loss: 3.3117e-04 - val_loss: 0.0189\n",
      "Epoch 42/200\n",
      "113/114 [============================>.] - ETA: 0s - loss: 2.8282e-04Epoch 1/200\n",
      "114/114 [==============================] - 27s 233ms/step - loss: 3.1789e-04 - val_loss: 0.0090\n",
      "Epoch 43/200\n",
      "113/114 [============================>.] - ETA: 0s - loss: 3.4710e-04Epoch 1/200\n",
      "114/114 [==============================] - 22s 192ms/step - loss: 3.6224e-04 - val_loss: 0.0176\n",
      "Epoch 44/200\n",
      "113/114 [============================>.] - ETA: 0s - loss: 2.2069e-04Epoch 1/200\n",
      "114/114 [==============================] - 18s 160ms/step - loss: 2.1877e-04 - val_loss: 0.0096\n",
      "Epoch 45/200\n",
      "113/114 [============================>.] - ETA: 0s - loss: 2.5722e-04Epoch 1/200\n",
      "114/114 [==============================] - 18s 161ms/step - loss: 2.5584e-04 - val_loss: 0.0144\n",
      "Epoch 46/200\n",
      "113/114 [============================>.] - ETA: 0s - loss: 2.4538e-04Epoch 1/200\n",
      "114/114 [==============================] - 20s 175ms/step - loss: 2.4539e-04 - val_loss: 0.0085\n",
      "Epoch 47/200\n",
      "113/114 [============================>.] - ETA: 0s - loss: 2.4543e-04Epoch 1/200\n",
      "114/114 [==============================] - 20s 176ms/step - loss: 2.4344e-04 - val_loss: 0.0153\n",
      "Epoch 48/200\n",
      "113/114 [============================>.] - ETA: 0s - loss: 2.6260e-04Epoch 1/200\n",
      "114/114 [==============================] - 20s 175ms/step - loss: 2.6385e-04 - val_loss: 0.0053\n",
      "Epoch 49/200\n",
      "113/114 [============================>.] - ETA: 0s - loss: 2.1181e-04Epoch 1/200\n",
      "114/114 [==============================] - 19s 170ms/step - loss: 2.1702e-04 - val_loss: 0.0137\n",
      "Epoch 50/200\n",
      "113/114 [============================>.] - ETA: 0s - loss: 3.3837e-04Epoch 1/200\n",
      "114/114 [==============================] - 18s 156ms/step - loss: 3.3546e-04 - val_loss: 0.0117\n",
      "Epoch 51/200\n",
      "113/114 [============================>.] - ETA: 0s - loss: 3.0796e-04- ETA: 2s - loEpoch 1/200\n",
      "114/114 [==============================] - 18s 159ms/step - loss: 3.0548e-04 - val_loss: 0.0078\n",
      "Epoch 52/200\n",
      "113/114 [============================>.] - ETA: 0s - loss: 3.1127e-04Epoch 1/200\n",
      "114/114 [==============================] - 18s 157ms/step - loss: 3.0854e-04 - val_loss: 0.0089\n",
      "Epoch 53/200\n",
      "113/114 [============================>.] - ETA: 0s - loss: 2.5715e-04Epoch 1/200\n",
      "114/114 [==============================] - 18s 154ms/step - loss: 2.6182e-04 - val_loss: 0.0119\n",
      "Epoch 54/200\n",
      "113/114 [============================>.] - ETA: 0s - loss: 2.8169e-04Epoch 1/200\n",
      "114/114 [==============================] - 18s 157ms/step - loss: 2.7965e-04 - val_loss: 0.0091\n",
      "Epoch 55/200\n",
      "113/114 [============================>.] - ETA: 0s - loss: 3.1627e-04- ETA: 2s - lEpoch 1/200\n",
      "114/114 [==============================] - 19s 169ms/step - loss: 3.1351e-04 - val_loss: 0.0209\n",
      "Epoch 56/200\n",
      "113/114 [============================>.] - ETA: 0s - loss: 2.9691e-04Epoch 1/200\n",
      "114/114 [==============================] - 24s 215ms/step - loss: 2.9456e-04 - val_loss: 0.0108\n",
      "Epoch 57/200\n",
      "113/114 [============================>.] - ETA: 0s - loss: 3.1023e-04Epoch 1/200\n",
      "114/114 [==============================] - 20s 180ms/step - loss: 3.0777e-04 - val_loss: 0.0065\n",
      "Epoch 58/200\n",
      "113/114 [============================>.] - ETA: 0s - loss: 2.4084e-04Epoch 1/200\n",
      "114/114 [==============================] - 22s 189ms/step - loss: 2.4399e-04 - val_loss: 0.0102\n",
      "Epoch 59/200\n",
      "113/114 [============================>.] - ETA: 0s - loss: 2.0973e-04Epoch 1/200\n",
      "114/114 [==============================] - 20s 174ms/step - loss: 2.1336e-04 - val_loss: 0.0127\n",
      "Epoch 60/200\n",
      "113/114 [============================>.] - ETA: 0s - loss: 2.1839e-04Epoch 1/200\n",
      "114/114 [==============================] - 19s 166ms/step - loss: 2.1768e-04 - val_loss: 0.0088\n",
      "Epoch 61/200\n",
      "113/114 [============================>.] - ETA: 0s - loss: 2.6465e-04Epoch 1/200\n",
      "114/114 [==============================] - 20s 171ms/step - loss: 2.6745e-04 - val_loss: 0.0058\n",
      "Epoch 62/200\n",
      "113/114 [============================>.] - ETA: 0s - loss: 6.1947e-04Epoch 1/200\n",
      "114/114 [==============================] - 18s 159ms/step - loss: 6.1680e-04 - val_loss: 0.0046\n",
      "Epoch 63/200\n",
      "113/114 [============================>.] - ETA: 0s - loss: 4.7494e-04Epoch 1/200\n",
      "114/114 [==============================] - 18s 158ms/step - loss: 4.7113e-04 - val_loss: 0.0101\n",
      "Epoch 64/200\n",
      "113/114 [============================>.] - ETA: 0s - loss: 2.1068e-04Epoch 1/200\n",
      "114/114 [==============================] - 20s 175ms/step - loss: 2.0893e-04 - val_loss: 0.0064\n",
      "Epoch 65/200\n",
      "113/114 [============================>.] - ETA: 0s - loss: 1.5781e-04Epoch 1/200\n",
      "114/114 [==============================] - 20s 179ms/step - loss: 1.5980e-04 - val_loss: 0.0071\n",
      "Epoch 66/200\n",
      "113/114 [============================>.] - ETA: 0s - loss: 2.5782e-04Epoch 1/200\n",
      "114/114 [==============================] - 20s 179ms/step - loss: 2.6045e-04 - val_loss: 0.0077\n",
      "Epoch 67/200\n",
      "113/114 [============================>.] - ETA: 0s - loss: 1.7414e-04- ETA: 1s - loss: 1.8Epoch 1/200\n",
      "114/114 [==============================] - 21s 182ms/step - loss: 1.7695e-04 - val_loss: 0.0098\n",
      "Epoch 68/200\n",
      "113/114 [============================>.] - ETA: 0s - loss: 1.4019e-04Epoch 1/200\n",
      "114/114 [==============================] - 19s 168ms/step - loss: 1.4480e-04 - val_loss: 0.0075\n",
      "Epoch 69/200\n",
      "113/114 [============================>.] - ETA: 0s - loss: 1.3727e-04- ETA: 0s - loss: 1.370Epoch 1/200\n",
      "114/114 [==============================] - 18s 162ms/step - loss: 1.3622e-04 - val_loss: 0.0102\n",
      "Epoch 70/200\n",
      "113/114 [============================>.] - ETA: 0s - loss: 2.1135e-04Epoch 1/200\n",
      "114/114 [==============================] - 18s 162ms/step - loss: 2.0950e-04 - val_loss: 0.0089\n",
      "Epoch 71/200\n",
      "113/114 [============================>.] - ETA: 0s - loss: 2.8075e-04Epoch 1/200\n",
      "114/114 [==============================] - 18s 161ms/step - loss: 2.8949e-04 - val_loss: 0.0117\n",
      "Epoch 72/200\n",
      "113/114 [============================>.] - ETA: 0s - loss: 3.3738e-04Epoch 1/200\n",
      "114/114 [==============================] - 22s 194ms/step - loss: 3.3498e-04 - val_loss: 0.0089\n",
      "Epoch 73/200\n",
      "113/114 [============================>.] - ETA: 0s - loss: 1.8224e-04Epoch 1/200\n",
      "114/114 [==============================] - 20s 179ms/step - loss: 1.8068e-04 - val_loss: 0.0088\n",
      "Epoch 74/200\n",
      "113/114 [============================>.] - ETA: 0s - loss: 1.8359e-04Epoch 1/200\n",
      "114/114 [==============================] - 21s 183ms/step - loss: 1.8213e-04 - val_loss: 0.0109\n",
      "Epoch 75/200\n",
      "113/114 [============================>.] - ETA: 0s - loss: 1.7350e-04Epoch 1/200\n",
      "114/114 [==============================] - 20s 178ms/step - loss: 1.7354e-04 - val_loss: 0.0063\n",
      "Epoch 76/200\n",
      "113/114 [============================>.] - ETA: 0s - loss: 2.6949e-04- EEpoch 1/200\n",
      "114/114 [==============================] - 20s 179ms/step - loss: 2.6883e-04 - val_loss: 0.0036\n",
      "Epoch 77/200\n",
      "113/114 [============================>.] - ETA: 0s - loss: 3.3077e-04Epoch 1/200\n",
      "114/114 [==============================] - 20s 172ms/step - loss: 3.2795e-04 - val_loss: 0.0096\n",
      "Epoch 78/200\n",
      "113/114 [============================>.] - ETA: 0s - loss: 1.5102e-04Epoch 1/200\n",
      "114/114 [==============================] - 18s 160ms/step - loss: 1.5081e-04 - val_loss: 0.0077\n",
      "Epoch 79/200\n",
      "113/114 [============================>.] - ETA: 0s - loss: 1.3456e-04Epoch 1/200\n",
      "114/114 [==============================] - 19s 166ms/step - loss: 1.3740e-04 - val_loss: 0.0074\n",
      "Epoch 80/200\n",
      "113/114 [============================>.] - ETA: 0s - loss: 1.7286e-04Epoch 1/200\n",
      "114/114 [==============================] - 18s 159ms/step - loss: 1.7200e-04 - val_loss: 0.0079\n",
      "Epoch 81/200\n",
      "113/114 [============================>.] - ETA: 0s - loss: 1.4928e-04Epoch 1/200\n",
      "114/114 [==============================] - 18s 161ms/step - loss: 1.4799e-04 - val_loss: 0.0101\n",
      "Epoch 82/200\n",
      "113/114 [============================>.] - ETA: 0s - loss: 2.0825e-04Epoch 1/200\n",
      "114/114 [==============================] - 19s 167ms/step - loss: 2.0787e-04 - val_loss: 0.0084\n",
      "Epoch 83/200\n",
      "113/114 [============================>.] - ETA: 0s - loss: 2.2801e-04Epoch 1/200\n",
      "114/114 [==============================] - 20s 179ms/step - loss: 2.2605e-04 - val_loss: 0.0099\n",
      "Epoch 84/200\n",
      "113/114 [============================>.] - ETA: 0s - loss: 1.7511e-04- ETA: 4s - loss: - ETA: 2s - loss:Epoch 1/200\n",
      "114/114 [==============================] - 21s 181ms/step - loss: 1.7371e-04 - val_loss: 0.0086\n",
      "Epoch 85/200\n",
      "113/114 [============================>.] - ETA: 0s - loss: 1.8783e-04Epoch 1/200\n"
     ]
    },
    {
     "name": "stdout",
     "output_type": "stream",
     "text": [
      "114/114 [==============================] - 20s 179ms/step - loss: 1.8847e-04 - val_loss: 0.0055\n",
      "Epoch 86/200\n",
      "113/114 [============================>.] - ETA: 0s - loss: 1.8142e-04Epoch 1/200\n",
      "114/114 [==============================] - 20s 178ms/step - loss: 1.8076e-04 - val_loss: 0.0076\n",
      "Epoch 87/200\n",
      "113/114 [============================>.] - ETA: 0s - loss: 1.9751e-04Epoch 1/200\n",
      "114/114 [==============================] - 19s 166ms/step - loss: 1.9580e-04 - val_loss: 0.0092\n",
      "Epoch 88/200\n",
      "113/114 [============================>.] - ETA: 0s - loss: 1.6385e-04Epoch 1/200\n",
      "114/114 [==============================] - 23s 203ms/step - loss: 1.6331e-04 - val_loss: 0.0055\n",
      "Epoch 89/200\n",
      "113/114 [============================>.] - ETA: 0s - loss: 2.1491e-04Epoch 1/200\n",
      "114/114 [==============================] - 20s 174ms/step - loss: 2.1302e-04 - val_loss: 0.0131\n",
      "Epoch 90/200\n",
      "113/114 [============================>.] - ETA: 0s - loss: 7.6657e-04Epoch 1/200\n",
      "114/114 [==============================] - 19s 168ms/step - loss: 7.5999e-04 - val_loss: 0.0100\n",
      "Epoch 91/200\n",
      "113/114 [============================>.] - ETA: 0s - loss: 3.5910e-04Epoch 1/200\n",
      "114/114 [==============================] - 19s 169ms/step - loss: 3.5601e-04 - val_loss: 0.0126\n",
      "Epoch 92/200\n",
      "113/114 [============================>.] - ETA: 0s - loss: 2.3599e-04Epoch 1/200\n",
      "114/114 [==============================] - 19s 167ms/step - loss: 2.3486e-04 - val_loss: 0.0139\n",
      "Epoch 93/200\n",
      "113/114 [============================>.] - ETA: 0s - loss: 2.0276e-04Epoch 1/200\n",
      "114/114 [==============================] - 19s 165ms/step - loss: 2.0569e-04 - val_loss: 0.0044\n",
      "Epoch 94/200\n",
      "113/114 [============================>.] - ETA: 0s - loss: 1.5621e-04Epoch 1/200\n",
      "114/114 [==============================] - 19s 168ms/step - loss: 1.5530e-04 - val_loss: 0.0123\n",
      "Epoch 95/200\n",
      "113/114 [============================>.] - ETA: 0s - loss: 1.3855e-04Epoch 1/200\n",
      "114/114 [==============================] - 21s 180ms/step - loss: 1.3772e-04 - val_loss: 0.0088\n",
      "Epoch 96/200\n",
      "113/114 [============================>.] - ETA: 0s - loss: 1.7984e-04- ETA: 3Epoch 1/200\n",
      "114/114 [==============================] - 21s 182ms/step - loss: 1.7829e-04 - val_loss: 0.0097\n",
      "Epoch 97/200\n",
      "113/114 [============================>.] - ETA: 0s - loss: 1.0441e-04Epoch 1/200\n",
      "114/114 [==============================] - 21s 188ms/step - loss: 1.0388e-04 - val_loss: 0.0086\n",
      "Epoch 98/200\n",
      "113/114 [============================>.] - ETA: 0s - loss: 1.8241e-04Epoch 1/200\n",
      "114/114 [==============================] - 21s 182ms/step - loss: 1.8604e-04 - val_loss: 0.0056\n",
      "Epoch 99/200\n",
      "113/114 [============================>.] - ETA: 0s - loss: 2.1552e-04Epoch 1/200\n",
      "114/114 [==============================] - 19s 170ms/step - loss: 2.1432e-04 - val_loss: 0.0086\n",
      "Epoch 100/200\n",
      "113/114 [============================>.] - ETA: 0s - loss: 1.4299e-04Epoch 1/200\n",
      "114/114 [==============================] - 20s 175ms/step - loss: 1.4220e-04 - val_loss: 0.0063\n",
      "Epoch 101/200\n",
      "113/114 [============================>.] - ETA: 0s - loss: 2.3003e-04Epoch 1/200\n",
      "114/114 [==============================] - 19s 167ms/step - loss: 2.2928e-04 - val_loss: 0.0147\n",
      "Epoch 102/200\n",
      "113/114 [============================>.] - ETA: 0s - loss: 1.9764e-04Epoch 1/200\n",
      "114/114 [==============================] - 21s 188ms/step - loss: 1.9592e-04 - val_loss: 0.0114\n",
      "Epoch 103/200\n",
      "113/114 [============================>.] - ETA: 0s - loss: 1.0934e-04Epoch 1/200\n",
      "114/114 [==============================] - 19s 166ms/step - loss: 1.0850e-04 - val_loss: 0.0112\n",
      "Epoch 104/200\n",
      "113/114 [============================>.] - ETA: 0s - loss: 1.0011e-04Epoch 1/200\n",
      "114/114 [==============================] - 24s 214ms/step - loss: 1.0028e-04 - val_loss: 0.0154\n",
      "Epoch 105/200\n",
      "113/114 [============================>.] - ETA: 0s - loss: 2.3763e-04- ETA: 2s - loss: Epoch 1/200\n",
      "114/114 [==============================] - 23s 198ms/step - loss: 2.3570e-04 - val_loss: 0.0073\n",
      "Epoch 106/200\n",
      "113/114 [============================>.] - ETA: 0s - loss: 2.3749e-04- ETA: 1s - loss: 2Epoch 1/200\n",
      "114/114 [==============================] - 22s 197ms/step - loss: 2.3540e-04 - val_loss: 0.0095\n",
      "Epoch 107/200\n",
      "113/114 [============================>.] - ETA: 0s - loss: 1.7104e-04Epoch 1/200\n",
      "114/114 [==============================] - 22s 191ms/step - loss: 1.6996e-04 - val_loss: 0.0071\n",
      "Epoch 108/200\n",
      "113/114 [============================>.] - ETA: 0s - loss: 2.0137e-04Epoch 1/200\n",
      "114/114 [==============================] - 21s 185ms/step - loss: 1.9967e-04 - val_loss: 0.0068\n",
      "Epoch 109/200\n",
      "113/114 [============================>.] - ETA: 0s - loss: 1.4568e-04Epoch 1/200\n",
      "114/114 [==============================] - 22s 189ms/step - loss: 1.4441e-04 - val_loss: 0.0097\n",
      "Epoch 110/200\n",
      "113/114 [============================>.] - ETA: 0s - loss: 6.4709e-05Epoch 1/200\n",
      "114/114 [==============================] - 22s 197ms/step - loss: 6.4186e-05 - val_loss: 0.0078\n",
      "Epoch 111/200\n",
      "113/114 [============================>.] - ETA: 0s - loss: 1.2149e-04Epoch 1/200\n",
      "114/114 [==============================] - 25s 216ms/step - loss: 1.2044e-04 - val_loss: 0.0061\n",
      "Epoch 112/200\n",
      "113/114 [============================>.] - ETA: 0s - loss: 1.3612e-04Epoch 1/200\n",
      "114/114 [==============================] - 23s 205ms/step - loss: 1.3642e-04 - val_loss: 0.0146\n",
      "Epoch 113/200\n",
      "113/114 [============================>.] - ETA: 0s - loss: 1.3908e-04Epoch 1/200\n",
      "114/114 [==============================] - 23s 203ms/step - loss: 1.4158e-04 - val_loss: 0.0081\n",
      "Epoch 114/200\n",
      "113/114 [============================>.] - ETA: 0s - loss: 2.1099e-04Epoch 1/200\n",
      "114/114 [==============================] - 22s 191ms/step - loss: 2.0914e-04 - val_loss: 0.0095\n",
      "Epoch 115/200\n",
      "113/114 [============================>.] - ETA: 0s - loss: 2.2270e-04Epoch 1/200\n",
      "114/114 [==============================] - 26s 226ms/step - loss: 2.2089e-04 - val_loss: 0.0085\n",
      "Epoch 116/200\n",
      "113/114 [============================>.] - ETA: 0s - loss: 1.3836e-04Epoch 1/200\n",
      "114/114 [==============================] - 22s 196ms/step - loss: 1.3762e-04 - val_loss: 0.0069\n",
      "Epoch 117/200\n",
      "113/114 [============================>.] - ETA: 0s - loss: 1.1114e-04Epoch 1/200\n",
      "114/114 [==============================] - 22s 194ms/step - loss: 1.1087e-04 - val_loss: 0.0078\n",
      "Epoch 118/200\n",
      "113/114 [============================>.] - ETA: 0s - loss: 1.3981e-04Epoch 1/200\n",
      "114/114 [==============================] - 27s 239ms/step - loss: 1.3885e-04 - val_loss: 0.0102\n",
      "Epoch 119/200\n",
      "113/114 [============================>.] - ETA: 0s - loss: 1.3137e-04Epoch 1/200\n",
      "114/114 [==============================] - 24s 212ms/step - loss: 1.3066e-04 - val_loss: 0.0110\n",
      "Epoch 120/200\n",
      "113/114 [============================>.] - ETA: 0s - loss: 1.4092e-04Epoch 1/200\n",
      "114/114 [==============================] - 22s 193ms/step - loss: 1.4060e-04 - val_loss: 0.0101\n",
      "Epoch 121/200\n",
      "113/114 [============================>.] - ETA: 0s - loss: 1.5747e-04Epoch 1/200\n",
      "114/114 [==============================] - 21s 187ms/step - loss: 1.5676e-04 - val_loss: 0.0079\n",
      "Epoch 122/200\n",
      "113/114 [============================>.] - ETA: 0s - loss: 1.3102e-04- EEpoch 1/200\n",
      "114/114 [==============================] - 22s 190ms/step - loss: 1.3024e-04 - val_loss: 0.0104\n",
      "Epoch 123/200\n",
      "113/114 [============================>.] - ETA: 0s - loss: 1.7090e-04Epoch 1/200\n",
      "114/114 [==============================] - 24s 212ms/step - loss: 1.7889e-04 - val_loss: 0.0060\n",
      "Epoch 124/200\n",
      "113/114 [============================>.] - ETA: 0s - loss: 2.3865e-04Epoch 1/200\n",
      "114/114 [==============================] - 24s 214ms/step - loss: 2.3678e-04 - val_loss: 0.0075\n",
      "Epoch 125/200\n",
      "113/114 [============================>.] - ETA: 0s - loss: 1.5529e-04Epoch 1/200\n",
      "114/114 [==============================] - 24s 214ms/step - loss: 1.5631e-04 - val_loss: 0.0143\n",
      "Epoch 126/200\n",
      "113/114 [============================>.] - ETA: 0s - loss: 1.4702e-04Epoch 1/200\n",
      "114/114 [==============================] - 26s 227ms/step - loss: 1.4983e-04 - val_loss: 0.0099\n",
      "Epoch 127/200\n",
      "113/114 [============================>.] - ETA: 0s - loss: 1.1349e-04Epoch 1/200\n",
      "114/114 [==============================] - 21s 183ms/step - loss: 1.1273e-04 - val_loss: 0.0084\n",
      "Epoch 128/200\n",
      "113/114 [============================>.] - ETA: 0s - loss: 1.1641e-04Epoch 1/200\n",
      "114/114 [==============================] - 23s 198ms/step - loss: 1.1540e-04 - val_loss: 0.0085\n",
      "Epoch 129/200\n",
      "113/114 [============================>.] - ETA: 0s - loss: 9.2731e-05Epoch 1/200\n",
      "114/114 [==============================] - 22s 192ms/step - loss: 9.2047e-05 - val_loss: 0.0064\n",
      "Epoch 130/200\n",
      "113/114 [============================>.] - ETA: 0s - loss: 1.9657e-04Epoch 1/200\n",
      "114/114 [==============================] - 22s 196ms/step - loss: 1.9485e-04 - val_loss: 0.0151\n",
      "Epoch 131/200\n",
      "113/114 [============================>.] - ETA: 0s - loss: 2.4922e-04Epoch 1/200\n",
      "114/114 [==============================] - 23s 203ms/step - loss: 2.4741e-04 - val_loss: 0.0092\n",
      "Epoch 132/200\n",
      "113/114 [============================>.] - ETA: 0s - loss: 1.5735e-04Epoch 1/200\n",
      "114/114 [==============================] - 29s 253ms/step - loss: 1.5609e-04 - val_loss: 0.0134\n",
      "Epoch 133/200\n",
      "113/114 [============================>.] - ETA: 0s - loss: 1.4945e-04Epoch 1/200\n",
      "114/114 [==============================] - 24s 212ms/step - loss: 1.4819e-04 - val_loss: 0.0163\n",
      "Epoch 134/200\n",
      "113/114 [============================>.] - ETA: 0s - loss: 1.6487e-04Epoch 1/200\n",
      "114/114 [==============================] - 24s 214ms/step - loss: 1.6345e-04 - val_loss: 0.0086\n",
      "Epoch 135/200\n",
      "113/114 [============================>.] - ETA: 0s - loss: 9.7369e-05Epoch 1/200\n",
      "114/114 [==============================] - 24s 209ms/step - loss: 9.8750e-05 - val_loss: 0.0062\n",
      "Epoch 136/200\n",
      "113/114 [============================>.] - ETA: 0s - loss: 8.6935e-05Epoch 1/200\n",
      "114/114 [==============================] - 23s 197ms/step - loss: 8.6288e-05 - val_loss: 0.0089\n",
      "Epoch 137/200\n",
      "113/114 [============================>.] - ETA: 0s - loss: 1.0268e-04Epoch 1/200\n",
      "114/114 [==============================] - 22s 191ms/step - loss: 1.0182e-04 - val_loss: 0.0084\n",
      "Epoch 138/200\n",
      "113/114 [============================>.] - ETA: 0s - loss: 2.2080e-04- ETA: 3s - lEpoch 1/200\n",
      "114/114 [==============================] - 22s 192ms/step - loss: 2.1909e-04 - val_loss: 0.0057\n",
      "Epoch 139/200\n",
      "113/114 [============================>.] - ETA: 0s - loss: 1.8532e-04- ETA: 0s - loss: 1.8492eEpoch 1/200\n",
      "114/114 [==============================] - 21s 188ms/step - loss: 1.8370e-04 - val_loss: 0.0097\n",
      "Epoch 140/200\n",
      "113/114 [============================>.] - ETA: 0s - loss: 8.3624e-05Epoch 1/200\n",
      "114/114 [==============================] - 23s 200ms/step - loss: 8.3580e-05 - val_loss: 0.0089\n",
      "Epoch 141/200\n",
      "113/114 [============================>.] - ETA: 0s - loss: 1.3852e-04Epoch 1/200\n",
      "114/114 [==============================] - 25s 222ms/step - loss: 1.3863e-04 - val_loss: 0.0094\n",
      "Epoch 142/200\n",
      "113/114 [============================>.] - ETA: 0s - loss: 2.3230e-04Epoch 1/200\n",
      "114/114 [==============================] - 27s 232ms/step - loss: 2.3049e-04 - val_loss: 0.0176\n",
      "Epoch 143/200\n",
      "113/114 [============================>.] - ETA: 0s - loss: 2.1510e-04Epoch 1/200\n",
      "114/114 [==============================] - 26s 230ms/step - loss: 2.2395e-04 - val_loss: 0.0065\n",
      "Epoch 144/200\n",
      "113/114 [============================>.] - ETA: 0s - loss: 2.2740e-04Epoch 1/200\n",
      "114/114 [==============================] - 26s 231ms/step - loss: 2.2542e-04 - val_loss: 0.0115\n",
      "Epoch 145/200\n",
      "113/114 [============================>.] - ETA: 0s - loss: 2.3766e-04Epoch 1/200\n",
      "114/114 [==============================] - 30s 264ms/step - loss: 2.4374e-04 - val_loss: 0.0088\n",
      "Epoch 146/200\n",
      "113/114 [============================>.] - ETA: 0s - loss: 2.8109e-04Epoch 1/200\n",
      "114/114 [==============================] - 26s 224ms/step - loss: 2.7938e-04 - val_loss: 0.0073\n",
      "Epoch 147/200\n",
      "113/114 [============================>.] - ETA: 0s - loss: 8.1623e-05- ETA: 4Epoch 1/200\n",
      "114/114 [==============================] - 23s 200ms/step - loss: 8.2085e-05 - val_loss: 0.0091\n",
      "Epoch 148/200\n",
      "113/114 [============================>.] - ETA: 0s - loss: 6.3704e-05Epoch 1/200\n",
      "114/114 [==============================] - 23s 205ms/step - loss: 6.3253e-05 - val_loss: 0.0088\n",
      "Epoch 149/200\n",
      "113/114 [============================>.] - ETA: 0s - loss: 9.2951e-05Epoch 1/200\n",
      "114/114 [==============================] - 23s 201ms/step - loss: 9.2140e-05 - val_loss: 0.0109\n",
      "Epoch 150/200\n",
      "113/114 [============================>.] - ETA: 0s - loss: 6.0852e-05Epoch 1/200\n",
      "114/114 [==============================] - 24s 209ms/step - loss: 6.0637e-05 - val_loss: 0.0148\n",
      "Epoch 151/200\n",
      "113/114 [============================>.] - ETA: 0s - loss: 1.2839e-04Epoch 1/200\n",
      "114/114 [==============================] - 25s 217ms/step - loss: 1.2739e-04 - val_loss: 0.0054\n",
      "Epoch 152/200\n",
      "113/114 [============================>.] - ETA: 0s - loss: 1.4132e-04Epoch 1/200\n",
      "114/114 [==============================] - 21s 183ms/step - loss: 1.4009e-04 - val_loss: 0.0103\n",
      "Epoch 153/200\n",
      "113/114 [============================>.] - ETA: 0s - loss: 1.1527e-04Epoch 1/200\n",
      "114/114 [==============================] - 22s 190ms/step - loss: 1.1443e-04 - val_loss: 0.0082\n",
      "Epoch 154/200\n",
      "113/114 [============================>.] - ETA: 0s - loss: 9.5435e-05Epoch 1/200\n",
      "114/114 [==============================] - 21s 180ms/step - loss: 9.5259e-05 - val_loss: 0.0071\n",
      "Epoch 155/200\n",
      "113/114 [============================>.] - ETA: 0s - loss: 1.0237e-04Epoch 1/200\n",
      "114/114 [==============================] - 19s 168ms/step - loss: 1.0489e-04 - val_loss: 0.0069\n",
      "Epoch 156/200\n",
      "113/114 [============================>.] - ETA: 0s - loss: 9.9335e-05- ETA: 1s - loss: 1.Epoch 1/200\n",
      "114/114 [==============================] - 19s 165ms/step - loss: 1.0029e-04 - val_loss: 0.0084\n",
      "Epoch 157/200\n",
      "113/114 [============================>.] - ETA: 0s - loss: 6.0153e-05Epoch 1/200\n",
      "114/114 [==============================] - 19s 164ms/step - loss: 6.0592e-05 - val_loss: 0.0130\n",
      "Epoch 158/200\n",
      "113/114 [============================>.] - ETA: 0s - loss: 1.2553e-04Epoch 1/200\n",
      "114/114 [==============================] - 21s 185ms/step - loss: 1.2598e-04 - val_loss: 0.0101\n",
      "Epoch 159/200\n",
      "113/114 [============================>.] - ETA: 0s - loss: 4.9034e-05Epoch 1/200\n",
      "114/114 [==============================] - 21s 188ms/step - loss: 5.6417e-05 - val_loss: 0.0075\n",
      "Epoch 160/200\n",
      "113/114 [============================>.] - ETA: 0s - loss: 1.0155e-04Epoch 1/200\n",
      "114/114 [==============================] - 24s 215ms/step - loss: 1.0121e-04 - val_loss: 0.0058\n",
      "Epoch 161/200\n",
      "113/114 [============================>.] - ETA: 0s - loss: 1.0634e-04- ETA: 8s - -Epoch 1/200\n",
      "114/114 [==============================] - 21s 184ms/step - loss: 1.0635e-04 - val_loss: 0.0077\n",
      "Epoch 162/200\n",
      "113/114 [============================>.] - ETA: 0s - loss: 2.4898e-04Epoch 1/200\n",
      "114/114 [==============================] - 19s 164ms/step - loss: 2.4723e-04 - val_loss: 0.0058\n",
      "Epoch 163/200\n",
      "113/114 [============================>.] - ETA: 0s - loss: 3.2679e-04Epoch 1/200\n",
      "114/114 [==============================] - 19s 166ms/step - loss: 3.2867e-04 - val_loss: 0.0081\n",
      "Epoch 164/200\n",
      "113/114 [============================>.] - ETA: 0s - loss: 1.5185e-04Epoch 1/200\n",
      "114/114 [==============================] - 18s 162ms/step - loss: 1.5106e-04 - val_loss: 0.0075\n",
      "Epoch 165/200\n",
      "113/114 [============================>.] - ETA: 0s - loss: 8.3938e-05Epoch 1/200\n",
      "114/114 [==============================] - 18s 160ms/step - loss: 8.5553e-05 - val_loss: 0.0089\n",
      "Epoch 166/200\n",
      "113/114 [============================>.] - ETA: 0s - loss: 5.2585e-05Epoch 1/200\n",
      "114/114 [==============================] - 18s 161ms/step - loss: 5.2186e-05 - val_loss: 0.0083\n",
      "Epoch 167/200\n",
      "113/114 [============================>.] - ETA: 0s - loss: 4.7948e-05- ETA: 2s - lEpoch 1/200\n",
      "114/114 [==============================] - 21s 183ms/step - loss: 4.7589e-05 - val_loss: 0.0082\n",
      "Epoch 168/200\n",
      "113/114 [============================>.] - ETA: 0s - loss: 4.7338e-05- ETA:  - ETA: Epoch 1/200\n",
      "114/114 [==============================] - 21s 181ms/step - loss: 4.7436e-05 - val_loss: 0.0092\n",
      "Epoch 169/200\n",
      "113/114 [============================>.] - ETA: 0s - loss: 4.9499e-05Epoch 1/200\n",
      "114/114 [==============================] - 21s 182ms/step - loss: 4.9531e-05 - val_loss: 0.0097\n",
      "Epoch 170/200\n"
     ]
    },
    {
     "name": "stdout",
     "output_type": "stream",
     "text": [
      "113/114 [============================>.] - ETA: 0s - loss: 5.7467e-05Epoch 1/200\n",
      "114/114 [==============================] - 21s 181ms/step - loss: 5.6984e-05 - val_loss: 0.0065\n",
      "Epoch 171/200\n",
      "113/114 [============================>.] - ETA: 0s - loss: 6.4172e-05Epoch 1/200\n",
      "114/114 [==============================] - 18s 161ms/step - loss: 6.4614e-05 - val_loss: 0.0093\n",
      "Epoch 172/200\n",
      "113/114 [============================>.] - ETA: 0s - loss: 6.0815e-05Epoch 1/200\n",
      "114/114 [==============================] - 19s 165ms/step - loss: 6.2745e-05 - val_loss: 0.0073\n",
      "Epoch 173/200\n",
      "113/114 [============================>.] - ETA: 0s - loss: 1.1281e-04Epoch 1/200\n",
      "114/114 [==============================] - 18s 160ms/step - loss: 1.1199e-04 - val_loss: 0.0152\n",
      "Epoch 174/200\n",
      "113/114 [============================>.] - ETA: 0s - loss: 1.0597e-04Epoch 1/200\n",
      "114/114 [==============================] - 18s 161ms/step - loss: 1.0513e-04 - val_loss: 0.0097\n",
      "Epoch 175/200\n",
      "113/114 [============================>.] - ETA: 0s - loss: 1.0268e-04Epoch 1/200\n",
      "114/114 [==============================] - 21s 186ms/step - loss: 1.0197e-04 - val_loss: 0.0110\n",
      "Epoch 176/200\n",
      "113/114 [============================>.] - ETA: 0s - loss: 1.7153e-04Epoch 1/200\n",
      "114/114 [==============================] - 26s 226ms/step - loss: 1.7003e-04 - val_loss: 0.0196\n",
      "Epoch 177/200\n",
      "113/114 [============================>.] - ETA: 0s - loss: 1.9851e-04Epoch 1/200\n",
      "114/114 [==============================] - 21s 183ms/step - loss: 1.9701e-04 - val_loss: 0.0095\n",
      "Epoch 178/200\n",
      "113/114 [============================>.] - ETA: 0s - loss: 2.8115e-04- ETA: Epoch 1/200\n",
      "114/114 [==============================] - 21s 180ms/step - loss: 2.7884e-04 - val_loss: 0.0180\n",
      "Epoch 179/200\n",
      "113/114 [============================>.] - ETA: 0s - loss: 4.1242e-04Epoch 1/200\n",
      "114/114 [==============================] - 20s 179ms/step - loss: 4.0926e-04 - val_loss: 0.0128\n",
      "Epoch 180/200\n",
      "113/114 [============================>.] - ETA: 0s - loss: 1.8974e-04Epoch 1/200\n",
      "114/114 [==============================] - 18s 160ms/step - loss: 1.8898e-04 - val_loss: 0.0110\n",
      "Epoch 181/200\n",
      "113/114 [============================>.] - ETA: 0s - loss: 1.4153e-04Epoch 1/200\n",
      "114/114 [==============================] - 19s 168ms/step - loss: 1.4038e-04 - val_loss: 0.0102\n",
      "Epoch 182/200\n",
      "113/114 [============================>.] - ETA: 0s - loss: 1.1927e-04Epoch 1/200\n",
      "114/114 [==============================] - 18s 159ms/step - loss: 1.2133e-04 - val_loss: 0.0101\n",
      "Epoch 183/200\n",
      "113/114 [============================>.] - ETA: 0s - loss: 5.3301e-05Epoch 1/200\n",
      "114/114 [==============================] - 18s 161ms/step - loss: 5.3002e-05 - val_loss: 0.0130\n",
      "Epoch 184/200\n",
      "113/114 [============================>.] - ETA: 0s - loss: 1.1166e-04Epoch 1/200\n",
      "114/114 [==============================] - 18s 162ms/step - loss: 1.1256e-04 - val_loss: 0.0084\n",
      "Epoch 185/200\n",
      "113/114 [============================>.] - ETA: 0s - loss: 7.7917e-05Epoch 1/200\n",
      "114/114 [==============================] - 21s 181ms/step - loss: 7.8497e-05 - val_loss: 0.0128\n",
      "Epoch 186/200\n",
      "113/114 [============================>.] - ETA: 0s - loss: 5.6057e-05Epoch 1/200\n",
      "114/114 [==============================] - 21s 180ms/step - loss: 5.5694e-05 - val_loss: 0.0110\n",
      "Epoch 187/200\n",
      "113/114 [============================>.] - ETA: 0s - loss: 4.2733e-05Epoch 1/200\n",
      "114/114 [==============================] - 21s 182ms/step - loss: 4.4084e-05 - val_loss: 0.0106\n",
      "Epoch 188/200\n",
      "113/114 [============================>.] - ETA: 0s - loss: 9.9135e-05- ETA: 5s - loss: 9.0605e Epoch 1/200\n",
      "114/114 [==============================] - 21s 181ms/step - loss: 9.9790e-05 - val_loss: 0.0061\n",
      "Epoch 189/200\n",
      "113/114 [============================>.] - ETA: 0s - loss: 1.0485e-04Epoch 1/200\n",
      "114/114 [==============================] - 18s 159ms/step - loss: 1.0610e-04 - val_loss: 0.0088\n",
      "Epoch 190/200\n",
      "113/114 [============================>.] - ETA: 0s - loss: 1.2323e-04Epoch 1/200\n",
      "114/114 [==============================] - 19s 165ms/step - loss: 1.2246e-04 - val_loss: 0.0115\n",
      "Epoch 191/200\n",
      "113/114 [============================>.] - ETA: 0s - loss: 1.5330e-04Epoch 1/200\n",
      "114/114 [==============================] - 19s 165ms/step - loss: 1.5254e-04 - val_loss: 0.0085\n",
      "Epoch 192/200\n",
      "113/114 [============================>.] - ETA: 0s - loss: 1.3036e-04Epoch 1/200\n",
      "114/114 [==============================] - 22s 195ms/step - loss: 1.3008e-04 - val_loss: 0.0098\n",
      "Epoch 193/200\n",
      "113/114 [============================>.] - ETA: 0s - loss: 9.0592e-05Epoch 1/200\n",
      "114/114 [==============================] - 18s 162ms/step - loss: 8.9797e-05 - val_loss: 0.0084\n",
      "Epoch 194/200\n",
      "113/114 [============================>.] - ETA: 0s - loss: 7.0635e-05Epoch 1/200\n",
      "114/114 [==============================] - 21s 188ms/step - loss: 7.0309e-05 - val_loss: 0.0077\n",
      "Epoch 195/200\n",
      "113/114 [============================>.] - ETA: 0s - loss: 4.4557e-05Epoch 1/200\n",
      "114/114 [==============================] - 21s 184ms/step - loss: 4.4204e-05 - val_loss: 0.0071\n",
      "Epoch 196/200\n",
      "113/114 [============================>.] - ETA: 0s - loss: 4.0571e-05- ETA: 1s - loss: 3.9Epoch 1/200\n",
      "114/114 [==============================] - 21s 183ms/step - loss: 4.0224e-05 - val_loss: 0.0090\n",
      "Epoch 197/200\n",
      "113/114 [============================>.] - ETA: 0s - loss: 1.1380e-04- ETA: 6s - loss: 1.2687Epoch 1/200\n",
      "114/114 [==============================] - 21s 184ms/step - loss: 1.1291e-04 - val_loss: 0.0077\n",
      "Epoch 198/200\n",
      "113/114 [============================>.] - ETA: 0s - loss: 1.4595e-04Epoch 1/200\n",
      "114/114 [==============================] - 18s 159ms/step - loss: 1.4530e-04 - val_loss: 0.0054\n",
      "Epoch 199/200\n",
      "113/114 [============================>.] - ETA: 0s - loss: 2.3653e-04Epoch 1/200\n",
      "114/114 [==============================] - 19s 165ms/step - loss: 2.3454e-04 - val_loss: 0.0125\n",
      "Epoch 200/200\n",
      "113/114 [============================>.] - ETA: 0s - loss: 7.6698e-05Epoch 1/200\n",
      "114/114 [==============================] - 18s 162ms/step - loss: 7.6231e-05 - val_loss: 0.0100\n"
     ]
    },
    {
     "data": {
      "text/plain": [
       "<tensorflow.python.keras.callbacks.History at 0x19b24f351c8>"
      ]
     },
     "execution_count": 59,
     "metadata": {},
     "output_type": "execute_result"
    }
   ],
   "source": [
    "model.fit_generator(generator, epochs=200, \n",
    "                   validation_data=validation_gen)"
   ]
  },
  {
   "cell_type": "code",
   "execution_count": 60,
   "metadata": {},
   "outputs": [
    {
     "data": {
      "text/plain": [
       "<matplotlib.axes._subplots.AxesSubplot at 0x19b24fd7a88>"
      ]
     },
     "execution_count": 60,
     "metadata": {},
     "output_type": "execute_result"
    },
    {
     "data": {
      "image/png": "[encoded data removed]",
      "text/plain": [
       "<Figure size 432x288 with 1 Axes>"
      ]
     },
     "metadata": {
      "needs_background": "light"
     },
     "output_type": "display_data"
    }
   ],
   "source": [
    "losses = pd.DataFrame(model.history.history)\n",
    "losses.plot()"
   ]
  },
  {
   "cell_type": "code",
   "execution_count": 61,
   "metadata": {},
   "outputs": [],
   "source": [
    "tested=[]\n",
    "first_eval_batch = scaled_train[-length:]\n",
    "current_batch = first_eval_batch.reshape((1,length,n_feature))\n",
    "\n",
    "for i in range(len(test)):\n",
    "    current_pred = model.predict(current_batch)[0]\n",
    "    tested.append(current_pred)\n",
    "    current_batch = np.append(current_batch[:,1:,:],[[current_pred]],axis=1)"
   ]
  },
  {
   "cell_type": "code",
   "execution_count": 62,
   "metadata": {},
   "outputs": [
    {
     "name": "stderr",
     "output_type": "stream",
     "text": [
      "C:\\Users\\gelelety\\anaconda3\\lib\\site-packages\\ipykernel_launcher.py:2: SettingWithCopyWarning: \n",
      "A value is trying to be set on a copy of a slice from a DataFrame.\n",
      "Try using .loc[row_indexer,col_indexer] = value instead\n",
      "\n",
      "See the caveats in the documentation: https://pandas.pydata.org/pandas-docs/stable/user_guide/indexing.html#returning-a-view-versus-a-copy\n",
      "  \n"
     ]
    }
   ],
   "source": [
    "true_pred = scaler.inverse_transform(tested)\n",
    "test['Prediction'] = true_pred"
   ]
  },
  {
   "cell_type": "code",
   "execution_count": 63,
   "metadata": {},
   "outputs": [
    {
     "data": {
      "text/plain": [
       "<matplotlib.axes._subplots.AxesSubplot at 0x19b2506fc48>"
      ]
     },
     "execution_count": 63,
     "metadata": {},
     "output_type": "execute_result"
    },
    {
     "data": {
      "image/png": "[encoded data removed]",
      "text/plain": [
       "<Figure size 432x288 with 1 Axes>"
      ]
     },
     "metadata": {
      "needs_background": "light"
     },
     "output_type": "display_data"
    }
   ],
   "source": [
    "test.plot()"
   ]
  },
  {
   "cell_type": "code",
   "execution_count": null,
   "metadata": {},
   "outputs": [],
   "source": [
    "#from last chart we can see, that model is quite good but not perfect. \n",
    "#we can use this for future prediction, but we can only predict annual change and yearly increased of travelling, but we...\n",
    "#... we cannot "
   ]
  }
 ],
 "metadata": {
  "kernelspec": {
   "display_name": "Python 3",
   "language": "python",
   "name": "python3"
  },
  "language_info": {
   "codemirror_mode": {
    "name": "ipython",
    "version": 3
   },
   "file_extension": ".py",
   "mimetype": "text/x-python",
   "name": "python",
   "nbconvert_exporter": "python",
   "pygments_lexer": "ipython3",
   "version": "3.7.6"
  }
 },
 "nbformat": 4,
 "nbformat_minor": 4
}
