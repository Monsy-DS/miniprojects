{
 "cells": [
  {
   "cell_type": "code",
   "execution_count": 1,
   "metadata": {},
   "outputs": [],
   "source": [
    "import pandas as pd\n",
    "import numpy as np\n",
    "import matplotlib.pyplot as plt\n",
    "import seaborn as sns"
   ]
  },
  {
   "cell_type": "code",
   "execution_count": 76,
   "metadata": {},
   "outputs": [],
   "source": [
    "from sklearn.model_selection import train_test_split\n",
    "from sklearn.preprocessing import MinMaxScaler\n",
    "from sklearn.metrics import confusion_matrix, classification_report"
   ]
  },
  {
   "cell_type": "code",
   "execution_count": 3,
   "metadata": {},
   "outputs": [],
   "source": [
    "from tensorflow.keras.utils import to_categorical\n",
    "from tensorflow.keras.models import Sequential\n",
    "from tensorflow.keras.layers import Dense,Dropout\n",
    "from tensorflow.keras.callbacks import EarlyStopping"
   ]
  },
  {
   "cell_type": "code",
   "execution_count": 4,
   "metadata": {},
   "outputs": [],
   "source": [
    "df = pd.read_csv('Fish.csv')"
   ]
  },
  {
   "cell_type": "code",
   "execution_count": 5,
   "metadata": {},
   "outputs": [
    {
     "data": {
      "text/html": [
       "<div>\n",
       "<style scoped>\n",
       "    .dataframe tbody tr th:only-of-type {\n",
       "        vertical-align: middle;\n",
       "    }\n",
       "\n",
       "    .dataframe tbody tr th {\n",
       "        vertical-align: top;\n",
       "    }\n",
       "\n",
       "    .dataframe thead th {\n",
       "        text-align: right;\n",
       "    }\n",
       "</style>\n",
       "<table border=\"1\" class=\"dataframe\">\n",
       "  <thead>\n",
       "    <tr style=\"text-align: right;\">\n",
       "      <th></th>\n",
       "      <th>Species</th>\n",
       "      <th>Weight</th>\n",
       "      <th>Length1</th>\n",
       "      <th>Length2</th>\n",
       "      <th>Length3</th>\n",
       "      <th>Height</th>\n",
       "      <th>Width</th>\n",
       "    </tr>\n",
       "  </thead>\n",
       "  <tbody>\n",
       "    <tr>\n",
       "      <th>0</th>\n",
       "      <td>Bream</td>\n",
       "      <td>242.0</td>\n",
       "      <td>23.2</td>\n",
       "      <td>25.4</td>\n",
       "      <td>30.0</td>\n",
       "      <td>11.5200</td>\n",
       "      <td>4.0200</td>\n",
       "    </tr>\n",
       "    <tr>\n",
       "      <th>1</th>\n",
       "      <td>Bream</td>\n",
       "      <td>290.0</td>\n",
       "      <td>24.0</td>\n",
       "      <td>26.3</td>\n",
       "      <td>31.2</td>\n",
       "      <td>12.4800</td>\n",
       "      <td>4.3056</td>\n",
       "    </tr>\n",
       "    <tr>\n",
       "      <th>2</th>\n",
       "      <td>Bream</td>\n",
       "      <td>340.0</td>\n",
       "      <td>23.9</td>\n",
       "      <td>26.5</td>\n",
       "      <td>31.1</td>\n",
       "      <td>12.3778</td>\n",
       "      <td>4.6961</td>\n",
       "    </tr>\n",
       "    <tr>\n",
       "      <th>3</th>\n",
       "      <td>Bream</td>\n",
       "      <td>363.0</td>\n",
       "      <td>26.3</td>\n",
       "      <td>29.0</td>\n",
       "      <td>33.5</td>\n",
       "      <td>12.7300</td>\n",
       "      <td>4.4555</td>\n",
       "    </tr>\n",
       "    <tr>\n",
       "      <th>4</th>\n",
       "      <td>Bream</td>\n",
       "      <td>430.0</td>\n",
       "      <td>26.5</td>\n",
       "      <td>29.0</td>\n",
       "      <td>34.0</td>\n",
       "      <td>12.4440</td>\n",
       "      <td>5.1340</td>\n",
       "    </tr>\n",
       "  </tbody>\n",
       "</table>\n",
       "</div>"
      ],
      "text/plain": [
       "  Species  Weight  Length1  Length2  Length3   Height   Width\n",
       "0   Bream   242.0     23.2     25.4     30.0  11.5200  4.0200\n",
       "1   Bream   290.0     24.0     26.3     31.2  12.4800  4.3056\n",
       "2   Bream   340.0     23.9     26.5     31.1  12.3778  4.6961\n",
       "3   Bream   363.0     26.3     29.0     33.5  12.7300  4.4555\n",
       "4   Bream   430.0     26.5     29.0     34.0  12.4440  5.1340"
      ]
     },
     "execution_count": 5,
     "metadata": {},
     "output_type": "execute_result"
    }
   ],
   "source": [
    "df.head()"
   ]
  },
  {
   "cell_type": "code",
   "execution_count": 38,
   "metadata": {},
   "outputs": [
    {
     "data": {
      "text/plain": [
       "<matplotlib.axes._subplots.AxesSubplot at 0x1c0f8e09788>"
      ]
     },
     "execution_count": 38,
     "metadata": {},
     "output_type": "execute_result"
    },
    {
     "data": {
      "image/png": "[encoded data removed]",
      "text/plain": [
       "<Figure size 432x288 with 2 Axes>"
      ]
     },
     "metadata": {
      "needs_background": "light"
     },
     "output_type": "display_data"
    }
   ],
   "source": [
    "sns.heatmap(df.corr(),annot=True)"
   ]
  },
  {
   "cell_type": "code",
   "execution_count": 39,
   "metadata": {},
   "outputs": [
    {
     "data": {
      "text/plain": [
       "<matplotlib.axes._subplots.AxesSubplot at 0x1c0f921d188>"
      ]
     },
     "execution_count": 39,
     "metadata": {},
     "output_type": "execute_result"
    },
    {
     "data": {
      "image/png": "[encoded data removed]",
      "text/plain": [
       "<Figure size 432x288 with 2 Axes>"
      ]
     },
     "metadata": {
      "needs_background": "light"
     },
     "output_type": "display_data"
    }
   ],
   "source": [
    "sns.heatmap(df.isnull())"
   ]
  },
  {
   "cell_type": "code",
   "execution_count": 40,
   "metadata": {
    "scrolled": true
   },
   "outputs": [
    {
     "data": {
      "text/plain": [
       "array(['Bream', 'Roach', 'Whitefish', 'Parkki', 'Perch', 'Pike', 'Smelt'],\n",
       "      dtype=object)"
      ]
     },
     "execution_count": 40,
     "metadata": {},
     "output_type": "execute_result"
    }
   ],
   "source": [
    "df['Species'].unique()"
   ]
  },
  {
   "cell_type": "code",
   "execution_count": 41,
   "metadata": {
    "scrolled": true
   },
   "outputs": [
    {
     "data": {
      "text/plain": [
       "<matplotlib.axes._subplots.AxesSubplot at 0x1c0f9612ac8>"
      ]
     },
     "execution_count": 41,
     "metadata": {},
     "output_type": "execute_result"
    },
    {
     "data": {
      "image/png": "[encoded data removed]",
      "text/plain": [
       "<Figure size 432x288 with 1 Axes>"
      ]
     },
     "metadata": {
      "needs_background": "light"
     },
     "output_type": "display_data"
    }
   ],
   "source": [
    "sns.countplot(x='Species', data=df)\n",
    "#well this is unfortunate - unbalance dataset"
   ]
  },
  {
   "cell_type": "code",
   "execution_count": 42,
   "metadata": {},
   "outputs": [
    {
     "name": "stdout",
     "output_type": "stream",
     "text": [
      "35 20 6 11 56 17 14\n"
     ]
    }
   ],
   "source": [
    "df1=df2=df3=df4=df5=df6=df7=0\n",
    "df1=df[df['Species']=='Bream']\n",
    "df2=df[df['Species']=='Roach']\n",
    "df3=df[df['Species']=='Whitefish']\n",
    "df4=df[df['Species']=='Parkki']\n",
    "df5=df[df['Species']=='Perch']\n",
    "df6=df[df['Species']=='Pike']\n",
    "df7=df[df['Species']=='Smelt']\n",
    "print(len(df1),len(df2),len(df3),len(df4),len(df5),len(df6),len(df7))"
   ]
  },
  {
   "cell_type": "code",
   "execution_count": 43,
   "metadata": {},
   "outputs": [
    {
     "name": "stdout",
     "output_type": "stream",
     "text": [
      "72.0 126.0 420.0 229.0909090909091 45.0 148.23529411764707 180.0\n"
     ]
    }
   ],
   "source": [
    "#35 = 7 5\n",
    "#20 = 2 2 5\n",
    "#6 = 2 3\n",
    "#11 = 11\n",
    "#56 = 2 2 2 7\n",
    "#17 = 17\n",
    "#14 = 2 7\n",
    "a=2*2*5*7*3*2*3\n",
    "\n",
    "print(a/35,a/20,a/6,a/11,a/56,a/17,a/14)"
   ]
  },
  {
   "cell_type": "code",
   "execution_count": 44,
   "metadata": {},
   "outputs": [
    {
     "name": "stdout",
     "output_type": "stream",
     "text": [
      "17635\n"
     ]
    }
   ],
   "source": [
    "df1=pd.concat(72*[df1],axis=0)\n",
    "df2=pd.concat(126*[df2],axis=0)\n",
    "df3=pd.concat(420*[df3],axis=0)\n",
    "df4=pd.concat(229*[df4],axis=0)\n",
    "df5=pd.concat(45*[df5],axis=0)\n",
    "df6=pd.concat(148*[df6],axis=0)\n",
    "df7=pd.concat(180*[df7],axis=0)\n",
    "df_all=pd.concat([df1,df2,df3,df4,df5,df6,df7],axis=0)\n",
    "print(len(df_all))"
   ]
  },
  {
   "cell_type": "code",
   "execution_count": 45,
   "metadata": {},
   "outputs": [
    {
     "data": {
      "text/plain": [
       "<matplotlib.axes._subplots.AxesSubplot at 0x1c0f9616988>"
      ]
     },
     "execution_count": 45,
     "metadata": {},
     "output_type": "execute_result"
    },
    {
     "data": {
      "image/png": "[encoded data removed]",
      "text/plain": [
       "<Figure size 432x288 with 1 Axes>"
      ]
     },
     "metadata": {
      "needs_background": "light"
     },
     "output_type": "display_data"
    }
   ],
   "source": [
    "sns.countplot(x='Species', data=df_all)\n",
    "#balanced"
   ]
  },
  {
   "cell_type": "code",
   "execution_count": 46,
   "metadata": {},
   "outputs": [],
   "source": [
    "df_all = df_all.reset_index()"
   ]
  },
  {
   "cell_type": "code",
   "execution_count": 47,
   "metadata": {},
   "outputs": [],
   "source": [
    "ryba = {'Bream':0, 'Roach':1, 'Whitefish':2, 'Parkki':3, 'Perch':4, 'Pike':5, 'Smelt':6}\n",
    "ryba_id = []\n",
    "for i in range(len(df_all)):\n",
    "    ryba_id.append(ryba[df_all['Species'][i]])\n",
    "    \n",
    "df_all['id']=ryba_id"
   ]
  },
  {
   "cell_type": "code",
   "execution_count": 48,
   "metadata": {},
   "outputs": [
    {
     "data": {
      "text/html": [
       "<div>\n",
       "<style scoped>\n",
       "    .dataframe tbody tr th:only-of-type {\n",
       "        vertical-align: middle;\n",
       "    }\n",
       "\n",
       "    .dataframe tbody tr th {\n",
       "        vertical-align: top;\n",
       "    }\n",
       "\n",
       "    .dataframe thead th {\n",
       "        text-align: right;\n",
       "    }\n",
       "</style>\n",
       "<table border=\"1\" class=\"dataframe\">\n",
       "  <thead>\n",
       "    <tr style=\"text-align: right;\">\n",
       "      <th></th>\n",
       "      <th>index</th>\n",
       "      <th>Species</th>\n",
       "      <th>Weight</th>\n",
       "      <th>Length1</th>\n",
       "      <th>Length2</th>\n",
       "      <th>Length3</th>\n",
       "      <th>Height</th>\n",
       "      <th>Width</th>\n",
       "      <th>id</th>\n",
       "    </tr>\n",
       "  </thead>\n",
       "  <tbody>\n",
       "    <tr>\n",
       "      <th>0</th>\n",
       "      <td>0</td>\n",
       "      <td>Bream</td>\n",
       "      <td>242.0</td>\n",
       "      <td>23.2</td>\n",
       "      <td>25.4</td>\n",
       "      <td>30.0</td>\n",
       "      <td>11.5200</td>\n",
       "      <td>4.0200</td>\n",
       "      <td>0</td>\n",
       "    </tr>\n",
       "    <tr>\n",
       "      <th>1</th>\n",
       "      <td>1</td>\n",
       "      <td>Bream</td>\n",
       "      <td>290.0</td>\n",
       "      <td>24.0</td>\n",
       "      <td>26.3</td>\n",
       "      <td>31.2</td>\n",
       "      <td>12.4800</td>\n",
       "      <td>4.3056</td>\n",
       "      <td>0</td>\n",
       "    </tr>\n",
       "    <tr>\n",
       "      <th>2</th>\n",
       "      <td>2</td>\n",
       "      <td>Bream</td>\n",
       "      <td>340.0</td>\n",
       "      <td>23.9</td>\n",
       "      <td>26.5</td>\n",
       "      <td>31.1</td>\n",
       "      <td>12.3778</td>\n",
       "      <td>4.6961</td>\n",
       "      <td>0</td>\n",
       "    </tr>\n",
       "    <tr>\n",
       "      <th>3</th>\n",
       "      <td>3</td>\n",
       "      <td>Bream</td>\n",
       "      <td>363.0</td>\n",
       "      <td>26.3</td>\n",
       "      <td>29.0</td>\n",
       "      <td>33.5</td>\n",
       "      <td>12.7300</td>\n",
       "      <td>4.4555</td>\n",
       "      <td>0</td>\n",
       "    </tr>\n",
       "    <tr>\n",
       "      <th>4</th>\n",
       "      <td>4</td>\n",
       "      <td>Bream</td>\n",
       "      <td>430.0</td>\n",
       "      <td>26.5</td>\n",
       "      <td>29.0</td>\n",
       "      <td>34.0</td>\n",
       "      <td>12.4440</td>\n",
       "      <td>5.1340</td>\n",
       "      <td>0</td>\n",
       "    </tr>\n",
       "  </tbody>\n",
       "</table>\n",
       "</div>"
      ],
      "text/plain": [
       "   index Species  Weight  Length1  Length2  Length3   Height   Width  id\n",
       "0      0   Bream   242.0     23.2     25.4     30.0  11.5200  4.0200   0\n",
       "1      1   Bream   290.0     24.0     26.3     31.2  12.4800  4.3056   0\n",
       "2      2   Bream   340.0     23.9     26.5     31.1  12.3778  4.6961   0\n",
       "3      3   Bream   363.0     26.3     29.0     33.5  12.7300  4.4555   0\n",
       "4      4   Bream   430.0     26.5     29.0     34.0  12.4440  5.1340   0"
      ]
     },
     "execution_count": 48,
     "metadata": {},
     "output_type": "execute_result"
    }
   ],
   "source": [
    "df_all.head()"
   ]
  },
  {
   "cell_type": "code",
   "execution_count": 49,
   "metadata": {},
   "outputs": [],
   "source": [
    "X=df_all.drop(['Species','id','index'],axis=1)\n",
    "y=df_all['id']"
   ]
  },
  {
   "cell_type": "code",
   "execution_count": 50,
   "metadata": {},
   "outputs": [],
   "source": [
    "X_train, X_test, y_train, y_test = train_test_split(X, y, test_size=0.33, random_state=42)\n",
    "y_train_cat = to_categorical(y_train)\n",
    "y_test_cat = to_categorical(y_test)"
   ]
  },
  {
   "cell_type": "code",
   "execution_count": 51,
   "metadata": {},
   "outputs": [],
   "source": [
    "scaler = MinMaxScaler()"
   ]
  },
  {
   "cell_type": "code",
   "execution_count": 52,
   "metadata": {},
   "outputs": [],
   "source": [
    "X_train = scaler.fit_transform(X_train)\n",
    "X_test = scaler.transform(X_test)"
   ]
  },
  {
   "cell_type": "code",
   "execution_count": 53,
   "metadata": {},
   "outputs": [],
   "source": [
    "early = EarlyStopping(monitor = 'val_loss', patience=2)"
   ]
  },
  {
   "cell_type": "code",
   "execution_count": 54,
   "metadata": {},
   "outputs": [
    {
     "data": {
      "text/plain": [
       "array([[0.18545455, 0.35145631, 0.35636364, 0.37162162, 0.40918008,\n",
       "        0.512235  ],\n",
       "       [0.00606061, 0.07378641, 0.06181818, 0.07263514, 0.02817989,\n",
       "        0.03329387],\n",
       "       [0.32727273, 0.63300971, 0.62909091, 0.625     , 0.35160141,\n",
       "        0.5753834 ],\n",
       "       ...,\n",
       "       [0.18545455, 0.35145631, 0.35636364, 0.37162162, 0.40918008,\n",
       "        0.512235  ],\n",
       "       [0.34848485, 0.46213592, 0.46545455, 0.51858108, 0.77778229,\n",
       "        0.63739005],\n",
       "       [0.00593939, 0.07572816, 0.06545455, 0.07432432, 0.02762848,\n",
       "        0.01420839]])"
      ]
     },
     "execution_count": 54,
     "metadata": {},
     "output_type": "execute_result"
    }
   ],
   "source": [
    "X_train"
   ]
  },
  {
   "cell_type": "code",
   "execution_count": 70,
   "metadata": {},
   "outputs": [],
   "source": [
    "model = Sequential()\n",
    "model.add(Dense(6, activation='relu', input_shape=(6,)))\n",
    "model.add(Dense(20, activation='relu'))\n",
    "model.add(Dense(20, activation='relu'))\n",
    "model.add(Dense(20, activation='relu'))\n",
    "model.add(Dense(20, activation='sigmoid'))\n",
    "\n",
    "model.add(Dense(7, activation='sigmoid'))\n",
    "model.compile(loss='categorical_crossentropy',optimizer='adam')"
   ]
  },
  {
   "cell_type": "code",
   "execution_count": 71,
   "metadata": {
    "scrolled": true
   },
   "outputs": [
    {
     "name": "stdout",
     "output_type": "stream",
     "text": [
      "Train on 11815 samples, validate on 5820 samples\n",
      "Epoch 1/50\n",
      "11815/11815 [==============================] - 1s 120us/sample - loss: 1.6180 - val_loss: 1.2270\n",
      "Epoch 2/50\n",
      "11815/11815 [==============================] - 1s 66us/sample - loss: 0.9599 - val_loss: 0.7431\n",
      "Epoch 3/50\n",
      "11815/11815 [==============================] - 1s 75us/sample - loss: 0.6267 - val_loss: 0.5274\n",
      "Epoch 4/50\n",
      "11815/11815 [==============================] - 1s 97us/sample - loss: 0.4686 - val_loss: 0.4048\n",
      "Epoch 5/50\n",
      "11815/11815 [==============================] - 1s 103us/sample - loss: 0.3690 - val_loss: 0.3198\n",
      "Epoch 6/50\n",
      "11815/11815 [==============================] - 1s 100us/sample - loss: 0.2961 - val_loss: 0.2675\n",
      "Epoch 7/50\n",
      "11815/11815 [==============================] - 1s 87us/sample - loss: 0.2550 - val_loss: 0.2393\n",
      "Epoch 8/50\n",
      "11815/11815 [==============================] - 1s 83us/sample - loss: 0.2244 - val_loss: 0.2082\n",
      "Epoch 9/50\n",
      "11815/11815 [==============================] - 1s 84us/sample - loss: 0.2046 - val_loss: 0.2070\n",
      "Epoch 10/50\n",
      "11815/11815 [==============================] - 1s 84us/sample - loss: 0.1913 - val_loss: 0.1786\n",
      "Epoch 11/50\n",
      "11815/11815 [==============================] - 1s 83us/sample - loss: 0.1777 - val_loss: 0.1729\n",
      "Epoch 12/50\n",
      "11815/11815 [==============================] - 1s 84us/sample - loss: 0.1697 - val_loss: 0.1608\n",
      "Epoch 13/50\n",
      "11815/11815 [==============================] - 1s 83us/sample - loss: 0.1565 - val_loss: 0.1582\n",
      "Epoch 14/50\n",
      "11815/11815 [==============================] - 1s 82us/sample - loss: 0.1460 - val_loss: 0.1433\n",
      "Epoch 15/50\n",
      "11815/11815 [==============================] - 1s 82us/sample - loss: 0.1415 - val_loss: 0.1287\n",
      "Epoch 16/50\n",
      "11815/11815 [==============================] - 1s 82us/sample - loss: 0.1301 - val_loss: 0.1213\n",
      "Epoch 17/50\n",
      "11815/11815 [==============================] - 1s 82us/sample - loss: 0.1200 - val_loss: 0.1156\n",
      "Epoch 18/50\n",
      "11815/11815 [==============================] - 1s 82us/sample - loss: 0.1195 - val_loss: 0.1110\n",
      "Epoch 19/50\n",
      "11815/11815 [==============================] - 1s 82us/sample - loss: 0.1079 - val_loss: 0.1076\n",
      "Epoch 20/50\n",
      "11815/11815 [==============================] - 1s 82us/sample - loss: 0.1011 - val_loss: 0.0994\n",
      "Epoch 21/50\n",
      "11815/11815 [==============================] - 1s 83us/sample - loss: 0.1008 - val_loss: 0.1089\n",
      "Epoch 22/50\n",
      "11815/11815 [==============================] - 1s 83us/sample - loss: 0.0962 - val_loss: 0.0936\n",
      "Epoch 23/50\n",
      "11815/11815 [==============================] - 1s 83us/sample - loss: 0.1000 - val_loss: 0.0938\n",
      "Epoch 24/50\n",
      "11815/11815 [==============================] - 1s 82us/sample - loss: 0.0888 - val_loss: 0.1009\n"
     ]
    },
    {
     "data": {
      "text/plain": [
       "<tensorflow.python.keras.callbacks.History at 0x1c0fe1b74c8>"
      ]
     },
     "execution_count": 71,
     "metadata": {},
     "output_type": "execute_result"
    }
   ],
   "source": [
    "model.fit(X_train, y_train_cat, validation_data=(X_test,y_test_cat), epochs=50, verbose=1, callbacks=[early])"
   ]
  },
  {
   "cell_type": "code",
   "execution_count": 72,
   "metadata": {},
   "outputs": [
    {
     "data": {
      "text/plain": [
       "[<matplotlib.lines.Line2D at 0x1c0ff3208c8>]"
      ]
     },
     "execution_count": 72,
     "metadata": {},
     "output_type": "execute_result"
    },
    {
     "data": {
      "image/png": "[encoded data removed]",
      "text/plain": [
       "<Figure size 432x288 with 1 Axes>"
      ]
     },
     "metadata": {
      "needs_background": "light"
     },
     "output_type": "display_data"
    }
   ],
   "source": [
    "history = model.history.history\n",
    "plt.subplot()\n",
    "plt.plot(history['loss'])\n",
    "plt.plot(history['val_loss'])"
   ]
  },
  {
   "cell_type": "code",
   "execution_count": 73,
   "metadata": {},
   "outputs": [],
   "source": [
    "y_pred = model.predict_classes(X_test)"
   ]
  },
  {
   "cell_type": "code",
   "execution_count": 74,
   "metadata": {},
   "outputs": [
    {
     "data": {
      "text/plain": [
       "array([6, 4, 1, ..., 2, 4, 1], dtype=int64)"
      ]
     },
     "execution_count": 74,
     "metadata": {},
     "output_type": "execute_result"
    }
   ],
   "source": [
    "y_pred"
   ]
  },
  {
   "cell_type": "code",
   "execution_count": 75,
   "metadata": {},
   "outputs": [
    {
     "data": {
      "text/plain": [
       "<matplotlib.axes._subplots.AxesSubplot at 0x1c0ff365ac8>"
      ]
     },
     "execution_count": 75,
     "metadata": {},
     "output_type": "execute_result"
    },
    {
     "data": {
      "image/png": "[encoded data removed]",
      "text/plain": [
       "<Figure size 720x576 with 2 Axes>"
      ]
     },
     "metadata": {
      "needs_background": "light"
     },
     "output_type": "display_data"
    }
   ],
   "source": [
    "plt.figure(figsize=(10,8))\n",
    "sns.heatmap(confusion_matrix(y_test,y_pred),annot=True)"
   ]
  },
  {
   "cell_type": "code",
   "execution_count": 78,
   "metadata": {},
   "outputs": [
    {
     "data": {
      "text/plain": [
       "array([[823,   0,   0,   0,   0,   0,   0],\n",
       "       [  0, 799,   0,   0,  44,   0,   0],\n",
       "       [  0,   0, 805,   0,   0,   0,   0],\n",
       "       [  0,   0,   0, 862,   0,   0,   0],\n",
       "       [  0, 126,  17,   0, 725,   0,   0],\n",
       "       [  0,   0,   0,   0,   0, 819,   0],\n",
       "       [  0,   0,   0,   0,   0,   0, 800]], dtype=int64)"
      ]
     },
     "execution_count": 78,
     "metadata": {},
     "output_type": "execute_result"
    }
   ],
   "source": [
    "confusion_matrix(y_test,y_pred)"
   ]
  },
  {
   "cell_type": "code",
   "execution_count": 77,
   "metadata": {},
   "outputs": [
    {
     "data": {
      "text/plain": [
       "'              precision    recall  f1-score   support\\n\\n           0       1.00      1.00      1.00       823\\n           1       0.86      0.95      0.90       843\\n           2       0.98      1.00      0.99       805\\n           3       1.00      1.00      1.00       862\\n           4       0.94      0.84      0.89       868\\n           5       1.00      1.00      1.00       819\\n           6       1.00      1.00      1.00       800\\n\\n    accuracy                           0.97      5820\\n   macro avg       0.97      0.97      0.97      5820\\nweighted avg       0.97      0.97      0.97      5820\\n'"
      ]
     },
     "execution_count": 77,
     "metadata": {},
     "output_type": "execute_result"
    }
   ],
   "source": [
    "classification_report(y_test, y_pred)"
   ]
  },
  {
   "cell_type": "code",
   "execution_count": 82,
   "metadata": {},
   "outputs": [
    {
     "name": "stdout",
     "output_type": "stream",
     "text": [
      "0.9678694158075601\n"
     ]
    }
   ],
   "source": [
    "suma = 0\n",
    "suma2 = 0\n",
    "for i in range(7):\n",
    "    for j in range(7):\n",
    "        if i==j:\n",
    "            suma = suma+confusion_matrix(y_test,y_pred)[i,j]\n",
    "        else:\n",
    "            suma2 = suma2+confusion_matrix(y_test,y_pred)[i,j]\n",
    "print(suma/(suma+suma2))\n",
    "        \n",
    "    "
   ]
  },
  {
   "cell_type": "code",
   "execution_count": null,
   "metadata": {},
   "outputs": [],
   "source": [
    "#I could do this as webpage, where you just put some info and pipeline do the rest. For fish I didn't do it.. \n",
    "#but check my webpage monsydatascience.herokuapp.com"
   ]
  }
 ],
 "metadata": {
  "kernelspec": {
   "display_name": "Python 3",
   "language": "python",
   "name": "python3"
  },
  "language_info": {
   "codemirror_mode": {
    "name": "ipython",
    "version": 3
   },
   "file_extension": ".py",
   "mimetype": "text/x-python",
   "name": "python",
   "nbconvert_exporter": "python",
   "pygments_lexer": "ipython3",
   "version": "3.7.6"
  }
 },
 "nbformat": 4,
 "nbformat_minor": 4
}
